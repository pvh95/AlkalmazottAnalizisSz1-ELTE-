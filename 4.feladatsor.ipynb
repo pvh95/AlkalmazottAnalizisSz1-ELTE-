{
 "cells": [
  {
   "cell_type": "markdown",
   "metadata": {},
   "source": [
    "## <center>4. Feladatsor</center>\n",
    "\n",
    "<img src=\"toohappy.gif\" width=\"700\">"
   ]
  },
  {
   "cell_type": "markdown",
   "metadata": {},
   "source": [
    "1.feladat.  A spline beépített függvény segítségével az $x=0,\\ 1,\\ 2.5,\\ 3.6,\\ 5,\\ 7,\\ 8.1,\\ 10$ osztópontokon készítsük el a $\\sin(x)$ függvény spline interpoláltját! Ábrázoljuk egy ábrán a két függvényt és lássuk el őket címkével!"
   ]
  },
  {
   "cell_type": "code",
   "execution_count": 1,
   "metadata": {},
   "outputs": [
    {
     "data": {
      "image/png": "[encoded data removed]",
      "text/plain": [
       "<IPython.core.display.Image object>"
      ]
     },
     "metadata": {},
     "output_type": "display_data"
    }
   ],
   "source": []
  },
  {
   "cell_type": "markdown",
   "metadata": {},
   "source": [
    "2.feladat. Adjuk meg a megadott $(t_i, f_i)$ pontokat négyzetesen legjobban közelítõ parabolát a Gauss-féle normál-egyenlet segítségével!\n",
    "<br>\n",
    "<center>\n",
    "<table style=\"width:23%\">\n",
    "  <tr>\n",
    "    <th>t_i</th>\n",
    "<td>-2 | -1 | 1 | 2 </td>\n",
    "  </tr>\n",
    "  <tr>\n",
    "    <th>f_i</th>\n",
    "    <td> 3 | 1 | 0 | 2   </td>\n",
    "  </tr>\n",
    "</table>\n",
    "</center>\n",
    "<br>\n",
    "Számítsuk ki a maradékvektor euklideszi hosszának négyzetét!<br>"
   ]
  },
  {
   "cell_type": "code",
   "execution_count": 8,
   "metadata": {},
   "outputs": [
    {
     "name": "stdout",
     "output_type": "stream",
     "text": [
      "x =\n",
      "\n",
      "  -0.16667\n",
      "  -0.30000\n",
      "   0.66667\n",
      "\n",
      "Jnorma =  0.10000\n"
     ]
    }
   ],
   "source": []
  },
  {
   "cell_type": "markdown",
   "metadata": {},
   "source": [
    "3.feladat. Oldjuk meg az előző feladatot beépített függvények segítségével!"
   ]
  },
  {
   "cell_type": "code",
   "execution_count": 12,
   "metadata": {},
   "outputs": [
    {
     "name": "stdout",
     "output_type": "stream",
     "text": [
      "ans =\n",
      "\n",
      "  -0.16667\n",
      "  -0.30000\n",
      "   0.66667\n",
      "\n"
     ]
    }
   ],
   "source": []
  },
  {
   "cell_type": "markdown",
   "metadata": {},
   "source": [
    "4.feladat. Írjuk legkosebbnegyzetek néven olyan programot, amely megadja a megadott $(t_i, f_i)$ pontokat négyzetesen legjobban közelítõ $n$-edfokú polinomot a Gauss-féle normál-egyenlet segítségével és kiszámíja a maradékvektor euklideszi hosszának négyzetét!"
   ]
  },
  {
   "cell_type": "code",
   "execution_count": 21,
   "metadata": {},
   "outputs": [
    {
     "name": "stdout",
     "output_type": "stream",
     "text": [
      "x =\n",
      "\n",
      "  -0.16667\n",
      "  -0.30000\n",
      "   0.66667\n",
      "\n",
      "Jnorma =  0.10000\n"
     ]
    }
   ],
   "source": [
    "[A,ATranA,ATranf,x,Jnorma,MatlabPolyfit]=legkisebbnegyzetek([-2 -1 1 2],[3 1 0 2],2);\n",
    "x\n",
    "Jnorma"
   ]
  },
  {
   "cell_type": "markdown",
   "metadata": {},
   "source": [
    "5.feladat. Írjunk olyan programot, mely az alábbi \n",
    "\n",
    "+ $\\displaystyle \\frac{f(x_0+h)-f(x_0)}{h}$<br>\n",
    "+ $\\displaystyle \\frac{f(x_0+h)-f(x_0-h)}{2h}$<br>\n",
    "+ $\\displaystyle \\frac{f(x_0+h)-2f(x_0)+f(x_0-h)}{h^2}$<br>\n",
    "\n",
    "véges differenciahányadokosat kiszámolja adott függvényre, adott pontban és adott lépésközzel. Eredményeinket vessük össze a megfelelő derivált értékekkel!"
   ]
  },
  {
   "cell_type": "code",
   "execution_count": 4,
   "metadata": {},
   "outputs": [
    {
     "name": "stdout",
     "output_type": "stream",
     "text": [
      "elso =  0.90007\n",
      "elsoketto =  0.91953\n",
      "masodik = -0.38909\n",
      "ans =  0.92106\n",
      "ans = -0.38942\n"
     ]
    }
   ],
   "source": [
    "[elso, elsoketto, masodik] = derivalt(@(x)(sin(x)),0.4,0.1)\n",
    "cos(0.4)\n",
    "-sin(0.4)"
   ]
  },
  {
   "cell_type": "code",
   "execution_count": null,
   "metadata": {
    "collapsed": true
   },
   "outputs": [],
   "source": []
  }
 ],
 "metadata": {
  "kernelspec": {
   "display_name": "Octave",
   "language": "octave",
   "name": "octave"
  },
  "language_info": {
   "file_extension": ".m",
   "help_links": [
    {
     "text": "GNU Octave",
     "url": "https://www.gnu.org/software/octave/support.html"
    },
    {
     "text": "Octave Kernel",
     "url": "https://github.com/Calysto/octave_kernel"
    },
    {
     "text": "MetaKernel Magics",
     "url": "https://github.com/calysto/metakernel/blob/master/metakernel/magics/README.md"
    }
   ],
   "mimetype": "text/x-octave",
   "name": "octave",
   "version": "4.2.2"
  }
 },
 "nbformat": 4,
 "nbformat_minor": 2
}
