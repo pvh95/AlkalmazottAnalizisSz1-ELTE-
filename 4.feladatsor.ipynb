{
 "cells": [
  {
   "cell_type": "markdown",
   "metadata": {},
   "source": [
    "## <center>4. Feladatsor</center>\n",
    "\n",
    "<img src=\"toohappy.gif\" width=\"700\">"
   ]
  },
  {
   "cell_type": "markdown",
   "metadata": {},
   "source": [
    "1.feladat.  A spline beépített függvény segítségével az $x=0,\\ 1,\\ 2.5,\\ 3.6,\\ 5,\\ 7,\\ 8.1,\\ 10$ osztópontokon készítsük el a $\\sin(x)$ függvény spline interpoláltját! Ábrázoljuk egy ábrán a két függvényt és lássuk el őket címkével!"
   ]
  },
  {
   "cell_type": "code",
   "execution_count": 3,
   "metadata": {},
   "outputs": [
    {
     "name": "stdout",
     "output_type": "stream",
     "text": [
      "yyy =\n",
      "\n",
      "  scalar structure containing the fields:\n",
      "\n",
      "    form = pp\n",
      "    breaks =\n",
      "\n",
      "     Columns 1 through 6:\n",
      "\n",
      "        0.00000    1.00000    2.50000    3.60000    5.00000    7.00000\n",
      "\n",
      "     Columns 7 and 8:\n",
      "\n",
      "        8.10000   10.00000\n",
      "\n",
      "    coefs =\n",
      "\n",
      "       0.00180  -0.40770   1.24737   0.00000\n",
      "       0.00180  -0.40229   0.43738   0.84147\n",
      "       0.20211  -0.39418  -0.75732   0.59847\n",
      "       0.07146   0.27279  -0.89084  -0.44252\n",
      "      -0.15778   0.57294   0.29319  -0.95892\n",
      "       0.00324  -0.37372   0.69162   0.65699\n",
      "       0.00324  -0.36301  -0.11878   0.96989\n",
      "\n",
      "    pieces =  7\n",
      "    order =  4\n",
      "    dim =  1\n",
      "\n"
     ]
    },
    {
     "data": {
      "image/png": "[encoded data removed]",
      "text/plain": [
       "<IPython.core.display.Image object>"
      ]
     },
     "metadata": {},
     "output_type": "display_data"
    }
   ],
   "source": [
    "% Beepitett kobos spline \n",
    "x = [0 1 2.5 3.6 5 7 8.1 10];\n",
    "y = sin(x);\n",
    "xx = 0:.25:10;\n",
    "yyy = spline(x,y)\n",
    "yy = spline(x,y,xx);\n",
    "plot(x,y,'o',xx,yy)\n",
    "legend('eredeti','spline')"
   ]
  },
  {
   "cell_type": "code",
   "execution_count": 2,
   "metadata": {},
   "outputs": [
    {
     "name": "stdout",
     "output_type": "stream",
     "text": [
      "'spline' is a function from the file /usr/share/octave/4.2.2/m/polynomial/spline.m\n",
      "\n",
      " -- PP = spline (X, Y)\n",
      " -- YI = spline (X, Y, XI)\n",
      "     Return the cubic spline interpolant of points X and Y.\n",
      "\n",
      "     When called with two arguments, return the piecewise polynomial PP\n",
      "     that may be used with 'ppval' to evaluate the polynomial at\n",
      "     specific points.\n",
      "\n",
      "     When called with a third input argument, 'spline' evaluates the\n",
      "     spline at the points XI.  The third calling form 'spline (X, Y,\n",
      "     XI)' is equivalent to 'ppval (spline (X, Y), XI)'.\n",
      "\n",
      "     The variable X must be a vector of length N.\n",
      "\n",
      "     Y can be either a vector or array.  If Y is a vector it must have a\n",
      "     length of either N or 'N + 2'.  If the length of Y is N, then the\n",
      "     \"not-a-knot\" end condition is used.  If the length of Y is 'N + 2',\n",
      "     then the first and last values of the vector Y are the values of\n",
      "     the first derivative of the cubic spline at the endpoints.\n",
      "\n",
      "     If Y is an array, then the size of Y must have the form '[S1, S2,\n",
      "     ..., SK, N]' or '[S1, S2, ..., SK, N + 2]'.  The array is reshaped\n",
      "     internally to a matrix where the leading dimension is given by 'S1\n",
      "     * S2 * ... * SK' and each row of this matrix is then treated\n",
      "     separately.  Note that this is exactly the opposite of 'interp1'\n",
      "     but is done for MATLAB compatibility.\n",
      "\n",
      "     See also: pchip, ppval, mkpp, unmkpp.\n",
      "\n",
      "Additional help for built-in functions and operators is\n",
      "available in the online version of the manual.  Use the command\n",
      "'doc <topic>' to search the manual index.\n",
      "\n",
      "Help and information about Octave is also available on the WWW\n",
      "at http://www.octave.org and via the help@octave.org\n",
      "mailing list.\n"
     ]
    }
   ],
   "source": [
    "help spline"
   ]
  },
  {
   "cell_type": "markdown",
   "metadata": {},
   "source": [
    "2.feladat. Adjuk meg a megadott $(t_i, f_i)$ pontokat négyzetesen legjobban közelítõ parabolát a Gauss-féle normál-egyenlet segítségével!\n",
    "\n",
    "<br>\n",
    "<table style=\"width:23%\">\n",
    "  <tr>\n",
    "    <th>t_i</th>\n",
    "<td>-2 | -1 | 1 | 2 </td>\n",
    "  </tr>\n",
    "  <tr>\n",
    "    <th>f_i</th>\n",
    "    <td> 3 | 1 | 0 | 2   </td>\n",
    "  </tr>\n",
    "</table>\n",
    "<br>\n",
    "\n",
    "Számítsuk ki a maradékvektor euklideszi hosszának négyzetét!<br>"
   ]
  },
  {
   "cell_type": "code",
   "execution_count": 4,
   "metadata": {},
   "outputs": [
    {
     "name": "stdout",
     "output_type": "stream",
     "text": [
      "x =\n",
      "\n",
      "  -0.16667\n",
      "  -0.30000\n",
      "   0.66667\n",
      "\n",
      "Jnorma =  0.10000\n"
     ]
    }
   ],
   "source": [
    "A=[1 -2 4; 1 -1 1; 1 1 1; 1 2 4];\n",
    "f=[3 1 0 2]';\n",
    "ATranA=(A'*A);\n",
    "ATranf=(A'*f);\n",
    "x=(ATranA)\\(ATranf)\n",
    "J=A*x-f;\n",
    "Jnorma=norm(J,2)^2"
   ]
  },
  {
   "cell_type": "markdown",
   "metadata": {},
   "source": [
    "3.feladat. Oldjuk meg az előző feladatot beépített függvények segítségével!"
   ]
  },
  {
   "cell_type": "code",
   "execution_count": 2,
   "metadata": {},
   "outputs": [
    {
     "name": "stdout",
     "output_type": "stream",
     "text": [
      "ans =\n",
      "\n",
      "   0.66667  -0.30000  -0.16667\n",
      "\n",
      "ans =\n",
      "\n",
      "  -0.16667\n",
      "  -0.30000\n",
      "   0.66667\n",
      "\n"
     ]
    }
   ],
   "source": [
    "t=[-2 -1 1 2];\n",
    "f=[3 1 0 2];\n",
    "n=2;\n",
    "polyfit(t,f,2)\n",
    "rot90(polyfit(t,f,n)',2)"
   ]
  },
  {
   "cell_type": "markdown",
   "metadata": {},
   "source": [
    "4.feladat. Írjuk legkosebbnegyzetek néven olyan programot, amely megadja a megadott $(t_i, f_i)$ pontokat négyzetesen legjobban közelítõ $n$-edfokú polinomot a Gauss-féle normál-egyenlet segítségével és kiszámíja a maradékvektor euklideszi hosszának négyzetét!"
   ]
  },
  {
   "cell_type": "code",
   "execution_count": 5,
   "metadata": {},
   "outputs": [
    {
     "name": "stdout",
     "output_type": "stream",
     "text": [
      "x =\n",
      "\n",
      "  -0.16667\n",
      "  -0.30000\n",
      "   0.66667\n",
      "\n",
      "Jnorma =  0.10000\n",
      "MatlabPolyfit =\n",
      "\n",
      "  -0.16667\n",
      "  -0.30000\n",
      "   0.66667\n",
      "\n"
     ]
    }
   ],
   "source": [
    "[x,Jnorma,MatlabPolyfit]=legkisebbnegyzetek([-2 -1 1 2],[3 1 0 2],2)"
   ]
  },
  {
   "cell_type": "markdown",
   "metadata": {},
   "source": [
    "5.feladat. Írjunk olyan programot, mely az alábbi \n",
    "\n",
    "+ $\\displaystyle \\frac{f(x_0+h)-f(x_0)}{h}$<br>\n",
    "+ $\\displaystyle \\frac{f(x_0+h)-f(x_0-h)}{2h}$<br>\n",
    "+ $\\displaystyle \\frac{f(x_0+h)-2f(x_0)+f(x_0-h)}{h^2}$<br>\n",
    "\n",
    "véges differenciahányadokosat kiszámolja adott függvényre, adott pontban és adott lépésközzel. Eredményeinket vessük össze a megfelelő derivált értékekkel!"
   ]
  },
  {
   "cell_type": "code",
   "execution_count": 4,
   "metadata": {},
   "outputs": [
    {
     "name": "stdout",
     "output_type": "stream",
     "text": [
      "elso =  0.90007\n",
      "elsoketto =  0.91953\n",
      "masodik = -0.38909\n",
      "ans =  0.92106\n",
      "ans = -0.38942\n"
     ]
    }
   ],
   "source": [
    "[elso, elsoketto, masodik] = derivalt(@(x)(sin(x)),0.4,0.1)\n"
   ]
  },
  {
   "cell_type": "code",
   "execution_count": 4,
   "metadata": {},
   "outputs": [
    {
     "name": "stdout",
     "output_type": "stream",
     "text": [
      "ans =\n",
      "\n",
      "   2  -1   0   0   0   0\n",
      "  -1   2  -1   0   0   0\n",
      "   0  -1   2  -1   0   0\n",
      "   0   0  -1   2  -1   0\n",
      "   0   0   0  -1   2  -1\n",
      "   0   0   0   0  -1   2\n",
      "\n"
     ]
    },
    {
     "data": {
      "image/png": "[encoded data removed]",
      "text/plain": [
       "<IPython.core.display.Image object>"
      ]
     },
     "metadata": {},
     "output_type": "display_data"
    }
   ],
   "source": [
    "% spdiags parancs hasznalata\n",
    "n=6;\n",
    "e=ones(n,1);\n",
    "A=spdiags([-e 2*e -e], [-1, 0, 1], n,n);\n",
    "full(A)\n",
    "spy(A);"
   ]
  },
  {
   "cell_type": "code",
   "execution_count": null,
   "metadata": {
    "collapsed": true
   },
   "outputs": [],
   "source": []
  }
 ],
 "metadata": {
  "kernelspec": {
   "display_name": "Octave",
   "language": "octave",
   "name": "octave"
  },
  "language_info": {
   "file_extension": ".m",
   "help_links": [
    {
     "text": "GNU Octave",
     "url": "https://www.gnu.org/software/octave/support.html"
    },
    {
     "text": "Octave Kernel",
     "url": "https://github.com/Calysto/octave_kernel"
    },
    {
     "text": "MetaKernel Magics",
     "url": "https://github.com/calysto/metakernel/blob/master/metakernel/magics/README.md"
    }
   ],
   "mimetype": "text/x-octave",
   "name": "octave",
   "version": "4.2.2"
  }
 },
 "nbformat": 4,
 "nbformat_minor": 2
}
