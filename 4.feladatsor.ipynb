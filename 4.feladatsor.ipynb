{
 "cells": [
  {
   "cell_type": "markdown",
   "metadata": {},
   "source": [
    "## <center>4. Feladatsor</center>\n",
    "\n",
    "<img src=\"toohappy.gif\" width=\"700\">"
   ]
  },
  {
   "cell_type": "markdown",
   "metadata": {},
   "source": [
    "<br>\n",
    "<b>1.feladat.</b>  A spline beépített függvény segítségével az $x=0,\\ 1,\\ 2.5,\\ 3.6,\\ 5,\\ 7,\\ 8.1,\\ 10$ osztópontokon készítsük el a $\\sin(x)$ függvény spline interpoláltját! Ábrázoljuk egy ábrán a két függvényt és lássuk el őket címkével!"
   ]
  },
  {
   "cell_type": "code",
   "execution_count": 3,
   "metadata": {},
   "outputs": [
    {
     "data": {
      "image/png": "[encoded data removed]",
      "text/plain": [
       "<IPython.core.display.Image object>"
      ]
     },
     "execution_count": 3,
     "metadata": {},
     "output_type": "execute_result"
    }
   ],
   "source": [
    "x = [0, 1, 2.5, 3.6, 5, 7, 8.1, 10];\n",
    "y = sin(x);\n",
    "\n",
    "xx = x(1):0.01:x(end);\n",
    "P = spline(x,y); % Kobos spline interpolalo polinomot (kulonbozo peremfeltetelek vannak)\n",
    "PP = spline(x,y,xx); % Finomabb spline mar kiertekelve\n",
    "\n",
    "plot(x,y,'mo',xx,PP)"
   ]
  },
  {
   "cell_type": "code",
   "execution_count": 1,
   "metadata": {},
   "outputs": [
    {
     "name": "stdout",
     "output_type": "stream",
     "text": [
      "'spline' is a function from the file /usr/local/share/octave/5.2.0/m/polynomial/spline.m\r\n",
      "\r\n",
      " -- PP = spline (X, Y)\r\n",
      " -- YI = spline (X, Y, XI)\r\n",
      "     Return the cubic spline interpolant of points X and Y.\r\n",
      "\r\n",
      "     When called with two arguments, return the piecewise polynomial PP\r\n",
      "     that may be used with 'ppval' to evaluate the polynomial at\r\n",
      "     specific points.\r\n",
      "\r\n",
      "     When called with a third input argument, 'spline' evaluates the\r\n",
      "     spline at the points XI.  The third calling form 'spline (X, Y,\r\n",
      "     XI)' is equivalent to 'ppval (spline (X, Y), XI)'.\r\n",
      "\r\n",
      "     The variable X must be a vector of length N.\r\n",
      "\r\n",
      "     Y can be either a vector or array.  If Y is a vector it must have a\r\n",
      "     length of either N or 'N + 2'.  If the length of Y is N, then the\r\n",
      "     \"not-a-knot\" end condition is used.  If the length of Y is 'N + 2',\r\n",
      "     then the first and last values of the vector Y are the values of\r\n",
      "     the first derivative of the cubic spline at the endpoints.\r\n",
      "\r\n",
      "     If Y is an array, then the size of Y must have the form '[S1, S2,\r\n",
      "     ..., SK, N]' or '[S1, S2, ..., SK, N + 2]'.  The array is reshaped\r\n",
      "     internally to a matrix where the leading dimension is given by 'S1\r\n",
      "     * S2 * ... * SK' and each row of this matrix is then treated\r\n",
      "     separately.  Note that this is exactly the opposite of 'interp1'\r\n",
      "     but is done for MATLAB compatibility.\r\n",
      "\r\n",
      "     See also: pchip, ppval, mkpp, unmkpp.\r\n",
      "\r\n",
      "Additional help for built-in functions and operators is\r\n",
      "available in the online version of the manual.  Use the command\r\n",
      "'doc <topic>' to search the manual index.\r\n",
      "\r\n",
      "Help and information about Octave is also available on the WWW\r\n",
      "at https://www.octave.org and via the help@octave.org\r\n",
      "mailing list.\r\n"
     ]
    }
   ],
   "source": [
    "help spline"
   ]
  },
  {
   "cell_type": "markdown",
   "metadata": {},
   "source": [
    "<br>\n",
    "<b>2.feladat.</b> Adjuk meg a megadott $(t_i, f_i)$ pontokat négyzetesen legjobban közelítõ egyenest és parabolát a Gauss-féle normál-egyenlet segítségével!"
   ]
  },
  {
   "cell_type": "markdown",
   "metadata": {},
   "source": [
    "\n",
    "  <tr>\n",
    "<td>t_i | -2 | -1 | 1 | 2 </td>\n",
    "  </tr>\n",
    "  <br>\n",
    "  <tr>\n",
    "    <td>f_i | 3 | 1 | 0 | 2   </td>\n",
    "  </tr>\n",
    "\n"
   ]
  },
  {
   "cell_type": "markdown",
   "metadata": {},
   "source": [
    "\n",
    "Számítsuk ki a maradékvektor euklideszi hosszának négyzetét!<br>"
   ]
  },
  {
   "cell_type": "code",
   "execution_count": 2,
   "metadata": {},
   "outputs": [
    {
     "name": "stdout",
     "output_type": "stream",
     "text": [
      "x =\n",
      "\n",
      "   1.50000\n",
      "  -0.30000\n",
      "\n",
      "M =\n",
      "\n",
      "    4    0\n",
      "    0   10\n",
      "\n",
      "ans =\n",
      "\n",
      "    4    0\n",
      "    0   10\n",
      "\n",
      "f_hullam =\n",
      "\n",
      "   6\n",
      "  -3\n",
      "\n",
      "ans =\n",
      "\n",
      "   6\n",
      "  -3\n",
      "\n",
      "J =  4.1000\n"
     ]
    },
    {
     "data": {
      "image/png": "[encoded data removed]",
      "text/plain": [
       "<IPython.core.display.Image object>"
      ]
     },
     "execution_count": 2,
     "metadata": {},
     "output_type": "execute_result"
    }
   ],
   "source": [
    "% Amit a gyakorlati feladatsoron lathattatok, az a Gauss-fele normalegyenlet polinom esete n=1-re 2-es normaban\n",
    "\n",
    "%% Egyenes (linearis regresszio)\n",
    "t = [-2 -1 1 2];\n",
    "f = [3 1 0 2];\n",
    "\n",
    "\n",
    "M = [length(t) sum(t); sum(t) sum(t.^2)];\n",
    "% x = a + b*t\n",
    "f_hullam = [sum(f) t*f']';\n",
    "\n",
    "x = M\\f_hullam %% F(t) = 1.5 -0.3*t\n",
    "\n",
    "tt = t(1):0.01:t(end);\n",
    "\n",
    "plot(t,f,'mo',tt,1.5-0.3*tt)\n",
    "legend('Adatok','Linearis regresszio')\n",
    "\n",
    "\n",
    "A = [ones(length(t),1) t'];\n",
    "\n",
    "%% A Gauss fele normalegyenlet: A'Ax=A'f egyenlet megoldasa\n",
    "M\n",
    "A'*A\n",
    "\n",
    "f_hullam\n",
    "A'*f'\n",
    "\n",
    "\n",
    "%% Maradekvektor euklideszi hosszanak negyzete lin.reg eseten: ||Ax-f||_2^2\n",
    "\n",
    "J = norm(A*x-f',2)^2\n"
   ]
  },
  {
   "cell_type": "code",
   "execution_count": 3,
   "metadata": {},
   "outputs": [
    {
     "name": "stdout",
     "output_type": "stream",
     "text": [
      "A =\n",
      "\n",
      "   1  -2   4\n",
      "   1  -1   1\n",
      "   1   1   1\n",
      "   1   2   4\n",
      "\n",
      "x =\n",
      "\n",
      "  -0.16667\n",
      "  -0.30000\n",
      "   0.66667\n",
      "\n",
      "J =  0.10000\n"
     ]
    },
    {
     "data": {
      "image/png": "[encoded data removed]",
      "text/plain": [
       "<IPython.core.display.Image object>"
      ]
     },
     "execution_count": 3,
     "metadata": {},
     "output_type": "execute_result"
    }
   ],
   "source": [
    "% Amit a gyakorlati feladatsoron lathattatok, az a Gauss-fele normalegyenlet polinom esete n=1-re 2-es normaban\n",
    "\n",
    "%% Parabola\n",
    "t = [-2 -1 1 2];\n",
    "f = [3 1 0 2];\n",
    "\n",
    "\n",
    "\n",
    "\n",
    "A = [ones(length(t),1) t' t.^2' ]\n",
    "\n",
    "%% A Gauss fele normalegyenlet: A'Ax=A'f egyenlet megoldasa\n",
    "\n",
    "x = (A'*A)\\A'*f'\n",
    "\n",
    "\n",
    "tt = t(1):0.01:t(end);\n",
    "\n",
    "plot(t,f,'mo',tt,x(1)+x(2)*tt+x(3)*tt.^2)\n",
    "legend('Adatok','Parabola')\n",
    "\n",
    "%% Maradekvektor euklideszi hosszanak negyzete parabola eseten: ||Ax-f||_2^2\n",
    "\n",
    "J = norm(A*x-f',2)^2\n"
   ]
  },
  {
   "cell_type": "code",
   "execution_count": 0,
   "metadata": {},
   "outputs": [],
   "source": [
    "\n"
   ]
  },
  {
   "cell_type": "markdown",
   "metadata": {},
   "source": [
    "<br>\n",
    "<b>3.feladat.</b> Oldjuk meg az előző feladatot beépített függvények segítségével!"
   ]
  },
  {
   "cell_type": "code",
   "execution_count": 17,
   "metadata": {},
   "outputs": [
    {
     "name": "stdout",
     "output_type": "stream",
     "text": [
      "ans =\r\n",
      "\r\n",
      "   1.50000  -0.30000\r\n",
      "\r\n"
     ]
    },
    {
     "data": {
      "image/png": "[encoded data removed]",
      "text/plain": [
       "<IPython.core.display.Image object>"
      ]
     },
     "execution_count": 17,
     "metadata": {},
     "output_type": "execute_result"
    }
   ],
   "source": [
    "%% Adatok\n",
    "t = [-2 -1 1 2];\n",
    "f = [3 1 0 2];\n",
    "tt = t(1):0.01:t(end);\n",
    "\n",
    "\n",
    "P_linreg = polyfit(t, f, 1); \n",
    "flip(P_linreg) %% Ez bizonyos verzioszamtol kezdve MATLAB-ban szukseges a polyfit parancs jo hasznalatahoz\n",
    "               %% https://www.mathworks.com/help/matlab/ref/polyfit.html\n",
    "\n",
    "linreg = polyval(P_linreg,tt);\n",
    "\n",
    "%% F(t) = x_1 + x_2*t\n",
    "\n",
    "%x_linreg =\n",
    "%   1.50000\n",
    "%  -0.30000\n",
    "\n",
    "P_parabola = polyfit(t, f, 2);\n",
    "parabola = polyval(P_parabola,tt);\n",
    "%x_parabola =\n",
    "\n",
    "%  -0.16667\n",
    "%  -0.30000\n",
    "%   0.66667\n",
    "\n",
    "plot(t,f,'mo',tt,linreg,tt,parabola)\n",
    "legend('Adatok','Linearis regresszio','Parabola')"
   ]
  },
  {
   "cell_type": "markdown",
   "metadata": {},
   "source": [
    "<br>\n",
    "<b>4.feladat.</b> Írjuk legkisebbnegyzetek néven olyan programot, amely megadja a megadott $(t_i, f_i)$ pontokat négyzetesen legjobban közelítõ $n$-edfokú polinomot a Gauss-féle normál-egyenlet segítségével és kiszámíja a maradékvektor euklideszi hosszának négyzetét!"
   ]
  },
  {
   "cell_type": "code",
   "execution_count": 2,
   "metadata": {},
   "outputs": [
    {
     "name": "stdout",
     "output_type": "stream",
     "text": [
      "x =\n",
      "\n",
      "  -0.16667\n",
      "  -0.30000\n",
      "   0.66667\n",
      "\n",
      "J =  0.10000\n"
     ]
    }
   ],
   "source": [
    "clear all\n",
    "%% F(t) = x_1 + x_2*t + ... + x_{n+1}*t^n \n",
    "t = [-2 -1 1 2];\n",
    "f = [3 1 0 2];\n",
    "n = 2;\n",
    "\n",
    "% function [x, J] = legkisebbnegyzetek(t,f,n)\n",
    "\n",
    "A(:,1)=ones(length(t),1);\n",
    "for j=2:n+1\n",
    "    A(:,j)=A(:,j-1).*t';\n",
    "end\n",
    "\n",
    "x = (A'*A)\\(A'*f')\n",
    "J = norm(A*x-f',2)^2"
   ]
  },
  {
   "cell_type": "code",
   "execution_count": 1,
   "metadata": {},
   "outputs": [
    {
     "name": "stdout",
     "output_type": "stream",
     "text": [
      "x =\r\n",
      "\r\n",
      "  -0.16667\r\n",
      "  -0.30000\r\n",
      "   0.66667\r\n",
      "\r\n",
      "J =  0.10000\r\n"
     ]
    }
   ],
   "source": [
    "[x,J]=legkisebbnegyzetek([-2 -1 1 2],[3 1 0 2],2)"
   ]
  },
  {
   "cell_type": "markdown",
   "metadata": {},
   "source": [
    "<br>\n",
    "<b>5.feladat.</b> Írjunk olyan programot, mely az alábbi \n",
    "\n",
    "+ $\\displaystyle \\frac{f(x_0+h)-f(x_0)}{h}$<br>\n",
    "+ $\\displaystyle \\frac{f(x_0+h)-f(x_0-h)}{2h}$<br>\n",
    "+ $\\displaystyle \\frac{f(x_0+h)-2f(x_0)+f(x_0-h)}{h^2}$<br>\n",
    "\n",
    "véges differenciahányadokosat kiszámolja adott függvényre, adott pontban és adott lépésközzel. Eredményeinket vessük össze a megfelelő derivált értékekkel!"
   ]
  },
  {
   "cell_type": "code",
   "execution_count": 4,
   "metadata": {},
   "outputs": [
    {
     "name": "stdout",
     "output_type": "stream",
     "text": [
      "elso =  0.90007\n",
      "elsoketto =  0.91953\n",
      "masodik = -0.38909\n",
      "ans =  0.92106\n",
      "ans = -0.38942\n"
     ]
    }
   ],
   "source": [
    "[elso, elsoketto, masodik] = derivalt(@(x)(sin(x)),0.4,0.1)\n"
   ]
  },
  {
   "cell_type": "code",
   "execution_count": 0,
   "metadata": {},
   "outputs": [],
   "source": []
  }
 ],
 "metadata": {
  "kernelspec": {
   "display_name": "Octave",
   "language": "octave",
   "name": "octave"
  },
  "language_info": {
   "file_extension": ".m",
   "help_links": [
    {
     "text": "GNU Octave",
     "url": "https://www.gnu.org/software/octave/support.html"
    },
    {
     "text": "Octave Kernel",
     "url": "https://github.com/Calysto/octave_kernel"
    },
    {
     "text": "MetaKernel Magics",
     "url": "https://metakernel.readthedocs.io/en/latest/source/README.html"
    }
   ],
   "mimetype": "text/x-octave",
   "name": "octave",
   "version": "5.1.0"
  }
 },
 "nbformat": 4,
 "nbformat_minor": 4
}
