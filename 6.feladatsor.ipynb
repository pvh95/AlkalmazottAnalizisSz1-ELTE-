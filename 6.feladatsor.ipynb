{
 "cells": [
  {
   "cell_type": "markdown",
   "metadata": {},
   "source": [
    "## <center>6. Feladatsor</center>"
   ]
  },
  {
   "cell_type": "markdown",
   "metadata": {},
   "source": [
    "### <center>Nemlineáris egyenletrendszerek</center>"
   ]
  },
  {
   "cell_type": "markdown",
   "metadata": {},
   "source": [
    "<br>\n",
    "<b>1.feladat.</b> Tekintsük az $x^2-x-6=0,\\ x\\in[1,4]$ egyenletet. Írjunk programot, amely a szokásos $maxit$ és abszolút hiba leállási feltételek mellett közelíti a nemlineáris egyenlét gyökét a Newton-módszerrel."
   ]
  },
  {
   "cell_type": "code",
   "execution_count": 1,
   "metadata": {},
   "outputs": [
    {
     "name": "stdout",
     "output_type": "stream",
     "text": [
      "x =  3.18823529411765\n",
      "x =  3.00659029476123\n",
      "x =  3.00000866355885\n",
      "x =  3.00000000001501\n",
      "k =  4\n",
      "x =  3.00000000001501\n"
     ]
    }
   ],
   "source": [
    "% Newton-modszer\n",
    "\n",
    "clear all;\n",
    "x=2.2; fuggveny='x^2-x-6'; derivalt='2*x-1'; maxit=20; TOL=10^-3;\n",
    "format long\n",
    "hiba=TOL+1;\n",
    "k=0;\n",
    "while k<maxit && hiba>TOL\n",
    "   k=k+1;\n",
    "   xregi=x;\n",
    "   x=x-eval(fuggveny)/eval(derivalt)\n",
    "   hiba=abs(x-xregi);\n",
    "end;\n",
    "k\n",
    "x"
   ]
  },
  {
   "cell_type": "code",
   "execution_count": 2,
   "metadata": {},
   "outputs": [
    {
     "name": "stdout",
     "output_type": "stream",
     "text": [
      "k =  4\n",
      "x =  3.00000000001501\n"
     ]
    }
   ],
   "source": [
    "[k x]=newton('x^2-x-6',2.2,20,1e-3,'2*x-1')"
   ]
  },
  {
   "cell_type": "markdown",
   "metadata": {},
   "source": [
    "<br>\n",
    "<b>2.feladat.</b> Tekintsük az alábbi\n",
    "\n",
    "$$x_1^2-10x_1+x_2^2+8=0\\\\\n",
    "x_1x_2^2+x_1-10x_2+8=0$$\n",
    "\n",
    "nemlineáris egyenletrendszert a $[-10,\\ 10]\\times [-10,\\ 10]$ négyzeten. Ábrázoljuk külön-külön implicit függvényként!"
   ]
  },
  {
   "cell_type": "code",
   "execution_count": 3,
   "metadata": {},
   "outputs": [
    {
     "data": {
      "image/png": "[encoded data removed]",
      "text/plain": [
       "<IPython.core.display.Image object>"
      ]
     },
     "metadata": {},
     "output_type": "display_data"
    }
   ],
   "source": [
    "%% MATLAB megvalositas\n",
    "%f = @(x_1,x_2) x_1.^2-10*x_1+x_2.^2+8;\n",
    "%fimplicit(f,[-10 10 -10 10])\n",
    "\n",
    "f = @(x_1,x_2) x_1.^2-10*x_1+x_2.^2+8;\n",
    "ezplot (f, [-10, 10]);\n",
    "hold on\n",
    "g = @(x_1,x_2) x_1.*x_2.^2+x_1-10*x_2+8;\n",
    "ezplot (g, [-10, 10]);\n",
    "title('A ket nemlinearis egyenlet plottolasa')\n",
    "legend('Elso egyenlet','Masodik egyenlet')\n",
    "hold off\n",
    "\n"
   ]
  },
  {
   "cell_type": "markdown",
   "metadata": {},
   "source": [
    "<br>\n",
    "<b>3.feladat.</b> Alkalmazzuk a beépített <i>fsolve</i> függvényt az előző nemlineáris egyenletrendszer gyökeinek meghatározására!"
   ]
  },
  {
   "cell_type": "code",
   "execution_count": 4,
   "metadata": {},
   "outputs": [],
   "source": [
    "function y = f (x)\n",
    "  y = zeros (2, 1);\n",
    "  y(1) = x(1).^2-10*x(1)+x(2).^2+8;\n",
    "  y(2) = x(1).*x(2).^2+x(1)-10*x(2)+8;\n",
    "endfunction"
   ]
  },
  {
   "cell_type": "code",
   "execution_count": 5,
   "metadata": {},
   "outputs": [
    {
     "name": "stdout",
     "output_type": "stream",
     "text": [
      "x =\n",
      "\n",
      "   2.19343941592074\n",
      "   3.02046646889454\n",
      "\n",
      "fval =\n",
      "\n",
      "   1.82354042976840e-09\n",
      "   7.62430119038982e-09\n",
      "\n",
      "info =  1\n"
     ]
    }
   ],
   "source": [
    "[x, fval, info] = fsolve (@f, [2; 3])"
   ]
  },
  {
   "cell_type": "markdown",
   "metadata": {},
   "source": [
    "<br>\n",
    "<b>4.feladat.</b> Írjunk általános rendszerre vonatkozó Newton-módszer megoldót és alkalmazzuk a 2.feladat egyenletrendszerére!"
   ]
  },
  {
   "cell_type": "code",
   "execution_count": 6,
   "metadata": {},
   "outputs": [
    {
     "name": "stdout",
     "output_type": "stream",
     "text": [
      "x =\n",
      "\n",
      "   2.19343941553759\n",
      "   3.02046646830840\n",
      "\n"
     ]
    }
   ],
   "source": [
    "f=@(x) [x(1).^2-10*x(1)+x(2).^2+8; x(1).*x(2).^2+x(1)-10*x(2)+8];\n",
    "x=newtonrendszer(f,[2;3],100,1e-4)"
   ]
  }
 ],
 "metadata": {
  "kernelspec": {
   "display_name": "Octave",
   "language": "octave",
   "name": "octave"
  },
  "language_info": {
   "file_extension": ".m",
   "help_links": [
    {
     "text": "GNU Octave",
     "url": "https://www.gnu.org/software/octave/support.html"
    },
    {
     "text": "Octave Kernel",
     "url": "https://github.com/Calysto/octave_kernel"
    },
    {
     "text": "MetaKernel Magics",
     "url": "https://github.com/calysto/metakernel/blob/master/metakernel/magics/README.md"
    }
   ],
   "mimetype": "text/x-octave",
   "name": "octave",
   "version": "4.2.2"
  }
 },
 "nbformat": 4,
 "nbformat_minor": 2
}
