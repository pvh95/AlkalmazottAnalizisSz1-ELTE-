{
 "cells": [
  {
   "cell_type": "markdown",
   "metadata": {},
   "source": [
    "## <center>5. Feladatsor</center>"
   ]
  },
  {
   "cell_type": "markdown",
   "metadata": {},
   "source": [
    "### <center>Numerikus Integrálás</center>"
   ]
  },
  {
   "cell_type": "markdown",
   "metadata": {},
   "source": [
    "<b>1.feladat.</b> Tekintsük az \n",
    "\n",
    "$$I(f)=\\int_{4}^{5.2}\\ln(x)\\text{d}x$$\n",
    "\n",
    "integrált. Közelítsük $I(f)$ értékét az érintőformulával, trapézforumlával és a Simpson-formulával! Becsüljük meg az egyes közelítések hibáját is!"
   ]
  },
  {
   "cell_type": "code",
   "execution_count": 2,
   "metadata": {},
   "outputs": [
    {
     "name": "stdout",
     "output_type": "stream",
     "text": [
      "erintoformula =  1.83126756419406\n"
     ]
    }
   ],
   "source": []
  },
  {
   "cell_type": "code",
   "execution_count": 3,
   "metadata": {},
   "outputs": [
    {
     "name": "stdout",
     "output_type": "stream",
     "text": [
      "trapezformula =  1.82097179202436\n"
     ]
    }
   ],
   "source": []
  },
  {
   "cell_type": "code",
   "execution_count": 4,
   "metadata": {},
   "outputs": [
    {
     "name": "stdout",
     "output_type": "stream",
     "text": [
      "simpsonformula =  1.82783564013749\n"
     ]
    }
   ],
   "source": []
  },
  {
   "cell_type": "code",
   "execution_count": 4,
   "metadata": {},
   "outputs": [
    {
     "name": "stdout",
     "output_type": "stream",
     "text": [
      "erinto_hiba =    4.500000000000002e-03\n",
      "trapez_hiba =    9.000000000000005e-03\n",
      "simpson_hiba =    2.025000000000001e-05\n"
     ]
    }
   ],
   "source": []
  },
  {
   "cell_type": "markdown",
   "metadata": {},
   "source": [
    "<br>\n",
    "<b>2.feladat.</b> Írjunk programot <i>kvadratura.m</i> néven, mely kiszámítja az $f(x)$ függvény közelítõ integrálját $m$ részre történő részintervallumra bontással az előadáson tanult összetett formulákkal, azaz  <br><br>\n",
    "$$I_{É, m}=h\\sum_{i=0}^{m-1}f\\bigg(x_i+\\frac{h}{2}\\bigg)$$\n",
    "<br>\n",
    "$$I_{T, m}= \\frac{h}{2}\\bigg(f(a)+2\\sum_{i=1}^{m-1}f(x_i)+f(b)\\bigg)$$\n",
    "<br>\n",
    "$$I_{S, m}= \\frac{h}{6}\\bigg(f(a)+4\\sum_{i=0}^{m-1}f\\left(x_i+\\frac{h}{2}\\right)+2\\sum_{i=0}^{m-1}f(x_i)+f(b)\\bigg)$$\n",
    "<br>\n",
    "\n",
    "Továbbá a fenti összetett Simpson-formulát $m$ páros mivolta esetén és $m/2$ részintervallumra alkalmazni, azaz ekkor\n",
    "\n",
    "$$I_{S, m}= \\frac{h}{3}\\bigg(f(a)+2\\sum_{\\substack{i\\ \\text{ps} \\\\ i\\neq 0,m}}f(x_i)+4\\sum_{i\\ \\text{plan}}f(x_i)+f(b)\\bigg)$$\n",
    "\n",
    "<br> Alkalmazzuk a programunkat az előző feladatra!"
   ]
  },
  {
   "cell_type": "code",
   "execution_count": 5,
   "metadata": {},
   "outputs": [
    {
     "name": "stdout",
     "output_type": "stream",
     "text": [
      "\n",
      "A feladat megoldasa 1 reszintervallumon osszetett erintoformulaval tortent.\n",
      "ans =  1.83126756419406\n",
      "\n",
      "A feladat megoldasa 1 reszintervallumon osszetett trapezformulaval tortent.\n",
      "ans =  1.82097179202436\n",
      "\n",
      "A feladat megoldasa 1 reszintervallumon osszetett Simpson-formulaval tortent.\n",
      "ans =  1.82783564013749\n"
     ]
    }
   ],
   "source": [
    "kvadratura(4,5.2,1,'log(x)','erinto')\n",
    "kvadratura(4,5.2,1,'log(x)','trapez') % Trapez eseten m = m\n",
    "kvadratura(4,5.2,2,'log(x)','Simpson') % Simspon eseten itt 2*m-et kell megadni"
   ]
  },
  {
   "cell_type": "code",
   "execution_count": 6,
   "metadata": {},
   "outputs": [
    {
     "name": "stdout",
     "output_type": "stream",
     "text": [
      "\n",
      "A feladat megoldasa 6 reszintervallumon osszetett erintoformulaval tortent.\n",
      "ans =  1.82794352934979\n",
      "\n",
      "A feladat megoldasa 6 reszintervallumon osszetett trapezformulaval tortent.\n",
      "ans =  1.82765513868203\n",
      "\n",
      "A feladat megoldasa 6 reszintervallumon osszetett Simpson-formulaval tortent.\n",
      "ans =  1.82784739912720\n"
     ]
    }
   ],
   "source": [
    "kvadratura(4,5.2,6,'log(x)','erinto')\n",
    "kvadratura(4,5.2,6,'log(x)','trapez') % Trapez eseten m = m\n",
    "kvadratura(4,5.2,12,'log(x)','Simpson') % Simspon eseten itt 2*m-et kell megadni"
   ]
  },
  {
   "cell_type": "markdown",
   "metadata": {},
   "source": [
    "<br>\n",
    "<b>3.feladat.</b> Hány részintervallumra kell osztani a $[0,\\ \\pi/4]$ intervallumot, ha az \n",
    "\n",
    "$$I(f)=\\int_{0}^{\\pi/4}\\ln(\\cos(x))\\text{d}x$$\n",
    "\n",
    "integrál értékét összetett trapézformulával szeretnénk közelíteni úgy, hogy a hiba (felhasználó által előírt tolerancia TOL) értéke kisebb legyen, mint $10^{-4}$?"
   ]
  },
  {
   "cell_type": "code",
   "execution_count": 31,
   "metadata": {},
   "outputs": [
    {
     "name": "stdout",
     "output_type": "stream",
     "text": [
      "m =  28.4157548181076\n",
      "m =  29\n"
     ]
    }
   ],
   "source": []
  },
  {
   "cell_type": "markdown",
   "metadata": {},
   "source": [
    "<br>\n",
    "<b>4.feladat.</b> Tanulmányozzuk a beépített <i>trapz</i>, <i>quad</i> és <i>quadk</i> parancsokat!"
   ]
  },
  {
   "cell_type": "code",
   "execution_count": null,
   "metadata": {},
   "outputs": [],
   "source": []
  },
  {
   "cell_type": "code",
   "execution_count": null,
   "metadata": {},
   "outputs": [],
   "source": []
  }
 ],
 "metadata": {
  "kernelspec": {
   "display_name": "Octave",
   "language": "octave",
   "name": "octave"
  },
  "language_info": {
   "file_extension": ".m",
   "help_links": [
    {
     "text": "GNU Octave",
     "url": "https://www.gnu.org/software/octave/support.html"
    },
    {
     "text": "Octave Kernel",
     "url": "https://github.com/Calysto/octave_kernel"
    },
    {
     "text": "MetaKernel Magics",
     "url": "https://github.com/calysto/metakernel/blob/master/metakernel/magics/README.md"
    }
   ],
   "mimetype": "text/x-octave",
   "name": "octave",
   "version": "4.2.2"
  }
 },
 "nbformat": 4,
 "nbformat_minor": 2
}
