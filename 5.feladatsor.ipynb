{
 "cells": [
  {
   "cell_type": "markdown",
   "metadata": {},
   "source": [
    "## <center>5. Feladatsor</center>\n",
    "\n",
    "<img src=\"phd-supervision.jpg\" width=\"700\">"
   ]
  },
  {
   "cell_type": "markdown",
   "metadata": {},
   "source": [
    "1.feladat. Határozzuk meg az $f(x)=x^2-2x+2$ függvény közelítõ integrálját az $x=1,\\ 2,\\ 3$ alappontokon az alábbi Newton-Cotes formulákkal:<br>\n",
    "\n",
    "(a) érintőformula<br>\n",
    "(b) trapézformula<br>\n",
    "(c) Simpson-formula<br>"
   ]
  },
  {
   "cell_type": "code",
   "execution_count": 4,
   "metadata": {},
   "outputs": [
    {
     "name": "stdout",
     "output_type": "stream",
     "text": [
      "ans =  4\n"
     ]
    }
   ],
   "source": [
    "% Erinto formula\n"
   ]
  },
  {
   "cell_type": "code",
   "execution_count": 6,
   "metadata": {},
   "outputs": [
    {
     "name": "stdout",
     "output_type": "stream",
     "text": [
      "ans =      14/3\n"
     ]
    }
   ],
   "source": [
    "% Simpson formula 5. feladatra\n",
    "%Fontos, hogy n páros és n/2 részintervallumra alkalmazzuk"
   ]
  },
  {
   "cell_type": "markdown",
   "metadata": {},
   "source": [
    "<br>\n",
    "2.feladat. Oldjuk meg az előző feladatot a MATLAB integral és quad beépített függvényei segítségével! Melyiket érdemes használni a 2 beépített függvény közül és miért?\n",
    "\n",
    "<br>"
   ]
  },
  {
   "cell_type": "code",
   "execution_count": 31,
   "metadata": {},
   "outputs": [],
   "source": [
    "%% "
   ]
  },
  {
   "cell_type": "code",
   "execution_count": 11,
   "metadata": {},
   "outputs": [
    {
     "name": "stdout",
     "output_type": "stream",
     "text": [
      "q =  4.66666666666667\n",
      "ans =      14/3\n"
     ]
    }
   ],
   "source": []
  },
  {
   "cell_type": "markdown",
   "metadata": {},
   "source": [
    "További Octave lehetőségek\n",
    "https://octave.org/doc/v4.4.0/Functions-of-One-Variable.html#Functions-of-One-Variable"
   ]
  },
  {
   "cell_type": "markdown",
   "metadata": {},
   "source": [
    "3.feladat. Írjunk programot, meg egy $f(x)$ függvény közelítõ integrálját $n$ részintervallummal kiszámolja a tanult összetett Newton-Cotes formulákkal.<br>\n"
   ]
  },
  {
   "cell_type": "code",
   "execution_count": 30,
   "metadata": {},
   "outputs": [
    {
     "name": "stdout",
     "output_type": "stream",
     "text": [
      "\n",
      "A feladat megoldasa 8 Simpson-szaballyal tortent.\n",
      "ans =  4.66666666666667\n"
     ]
    }
   ],
   "source": [
    "kvadratura(1,3,8,'x.^2-2*x+2','Simpson')"
   ]
  },
  {
   "cell_type": "code",
   "execution_count": null,
   "metadata": {
    "collapsed": true
   },
   "outputs": [],
   "source": []
  }
 ],
 "metadata": {
  "kernelspec": {
   "display_name": "Octave",
   "language": "octave",
   "name": "octave"
  },
  "language_info": {
   "file_extension": ".m",
   "help_links": [
    {
     "text": "GNU Octave",
     "url": "https://www.gnu.org/software/octave/support.html"
    },
    {
     "text": "Octave Kernel",
     "url": "https://github.com/Calysto/octave_kernel"
    },
    {
     "text": "MetaKernel Magics",
     "url": "https://github.com/calysto/metakernel/blob/master/metakernel/magics/README.md"
    }
   ],
   "mimetype": "text/x-octave",
   "name": "octave",
   "version": "4.2.2"
  }
 },
 "nbformat": 4,
 "nbformat_minor": 2
}
