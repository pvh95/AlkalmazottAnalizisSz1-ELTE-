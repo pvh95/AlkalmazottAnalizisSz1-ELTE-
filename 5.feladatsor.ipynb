{
 "cells": [
  {
   "cell_type": "markdown",
   "metadata": {},
   "source": [
    "## <center>5. Feladatsor</center>"
   ]
  },
  {
   "cell_type": "markdown",
   "metadata": {},
   "source": [
    "### <center>Numerikus Integrálás</center>"
   ]
  },
  {
   "cell_type": "markdown",
   "metadata": {},
   "source": [
    "<b>1.feladat.</b> Tekintsük az \n",
    "\n",
    "$$I(f)=\\int_{4}^{5.2}\\ln(x)\\text{d}x$$\n",
    "\n",
    "integrált. Közelítsük $I(f)$ értékét az érintőformulával, trapézforumlával és a Simpson-formulával! Becsüljük meg az egyes közelítések hibáját is!"
   ]
  },
  {
   "cell_type": "code",
   "execution_count": 2,
   "metadata": {},
   "outputs": [
    {
     "name": "stdout",
     "output_type": "stream",
     "text": [
      "erintoformula =  1.83126756419406\n"
     ]
    }
   ],
   "source": [
    "% Erintoformula\n",
    "format long\n",
    "a = 4; \n",
    "b = 5.2; \n",
    "h = (b-a);\n",
    "x = [a:h/2:b];\n",
    "fv = log(x);\n",
    "y = eval('fv');\n",
    "erintoformula = h*y(2)"
   ]
  },
  {
   "cell_type": "code",
   "execution_count": 3,
   "metadata": {},
   "outputs": [
    {
     "name": "stdout",
     "output_type": "stream",
     "text": [
      "trapezformula =  1.82097179202436\n"
     ]
    }
   ],
   "source": [
    "%% Trapezformula\n",
    "trapezformula = h*(y(1)+y(3))/2"
   ]
  },
  {
   "cell_type": "code",
   "execution_count": 4,
   "metadata": {},
   "outputs": [
    {
     "name": "stdout",
     "output_type": "stream",
     "text": [
      "simpsonformula =  1.82783564013749\n"
     ]
    }
   ],
   "source": [
    "%% Simpson-formula\n",
    "simpsonformula = h*(y(1)+4*y(2)+y(3))/6"
   ]
  },
  {
   "cell_type": "code",
   "execution_count": 4,
   "metadata": {},
   "outputs": [
    {
     "name": "stdout",
     "output_type": "stream",
     "text": [
      "erinto_hiba =    4.500000000000002e-03\n",
      "trapez_hiba =    9.000000000000005e-03\n",
      "simpson_hiba =    2.025000000000001e-05\n"
     ]
    }
   ],
   "source": [
    "m=1;\n",
    "%% Erinto hibaja\n",
    "M_2 = 1/16;\n",
    "erinto_hiba = ((b-a)^3/(24*m^2))*M_2\n",
    "\n",
    "%% Trapez hibaja\n",
    "M_2 = 1/16;\n",
    "trapez_hiba = ((b-a)^3/(12*m^2))*M_2\n",
    "\n",
    "%% Simpson hibaja\n",
    "M_4 = 3/128;\n",
    "simpson_hiba = ((b-a)^5/(2880*m^4))*M_4"
   ]
  },
  {
   "cell_type": "markdown",
   "metadata": {},
   "source": [
    "<br>\n",
    "<b>2.feladat.</b> Írjunk programot <i>kvadratura.m</i> néven, mely kiszámítja az $f(x)$ függvény közelítõ integrálját $m$ részre történő részintervallumra bontással az előadáson tanult összetett formulákkal, azaz  <br><br>\n",
    "$$I_{É, m}=h\\sum_{i=0}^{m-1}f\\bigg(x_i+\\frac{h}{2}\\bigg)$$\n",
    "<br>\n",
    "$$I_{T, m}= \\frac{h}{2}\\bigg(f(a)+2\\sum_{i=1}^{m-1}f(x_i)+f(b)\\bigg)$$\n",
    "<br>\n",
    "$$I_{S, m}= \\frac{h}{6}\\bigg(f(a)+4\\sum_{i=0}^{m-1}f\\left(x_i+\\frac{h}{2}\\right)+2\\sum_{i=1}^{m-1}f(x_i)+f(b)\\bigg)$$\n",
    "<br>\n",
    "\n",
    "Továbbá a fenti összetett Simpson-formulát $m$ páros mivolta esetén és $m/2$ részintervallumra alkalmazni, azaz ekkor\n",
    "\n",
    "$$I_{S, m}= \\frac{h}{3}\\bigg(f(a)+2\\sum_{\\substack{i\\ \\text{ps} \\\\ i\\neq 0,m}}f(x_i)+4\\sum_{i\\ \\text{plan}}f(x_i)+f(b)\\bigg)$$\n",
    "\n",
    "<br> Alkalmazzuk a programunkat az előző feladatra!"
   ]
  },
  {
   "cell_type": "code",
   "execution_count": 5,
   "metadata": {},
   "outputs": [
    {
     "name": "stdout",
     "output_type": "stream",
     "text": [
      "\n",
      "A feladat megoldasa 1 reszintervallumon osszetett erintoformulaval tortent.\n",
      "ans =  1.83126756419406\n",
      "\n",
      "A feladat megoldasa 1 reszintervallumon osszetett trapezformulaval tortent.\n",
      "ans =  1.82097179202436\n",
      "\n",
      "A feladat megoldasa 1 reszintervallumon osszetett Simpson-formulaval tortent.\n",
      "ans =  1.82783564013749\n"
     ]
    }
   ],
   "source": [
    "kvadratura(4,5.2,1,'log(x)','erinto')\n",
    "kvadratura(4,5.2,1,'log(x)','trapez') % Trapez eseten m = m\n",
    "kvadratura(4,5.2,2,'log(x)','Simpson') % Simspon eseten itt 2*m-et kell megadni"
   ]
  },
  {
   "cell_type": "code",
   "execution_count": 6,
   "metadata": {},
   "outputs": [
    {
     "name": "stdout",
     "output_type": "stream",
     "text": [
      "\n",
      "A feladat megoldasa 6 reszintervallumon osszetett erintoformulaval tortent.\n",
      "ans =  1.82794352934979\n",
      "\n",
      "A feladat megoldasa 6 reszintervallumon osszetett trapezformulaval tortent.\n",
      "ans =  1.82765513868203\n",
      "\n",
      "A feladat megoldasa 6 reszintervallumon osszetett Simpson-formulaval tortent.\n",
      "ans =  1.82784739912720\n"
     ]
    }
   ],
   "source": [
    "kvadratura(4,5.2,6,'log(x)','erinto')\n",
    "kvadratura(4,5.2,6,'log(x)','trapez') % Trapez eseten m = m\n",
    "kvadratura(4,5.2,12,'log(x)','Simpson') % Simspon eseten itt 2*m-et kell megadni"
   ]
  },
  {
   "cell_type": "markdown",
   "metadata": {},
   "source": [
    "<br>\n",
    "<b>3.feladat.</b> Hány részintervallumra kell osztani a $[0,\\ \\pi/4]$ intervallumot, ha az \n",
    "\n",
    "$$I(f)=\\int_{0}^{\\pi/4}\\ln(\\cos(x))\\text{d}x$$\n",
    "\n",
    "integrál értékét összetett trapézformulával szeretnénk közelíteni úgy, hogy a hiba (felhasználó által előírt tolerancia TOL) értéke kisebb legyen, mint $10^{-4}$?"
   ]
  },
  {
   "cell_type": "code",
   "execution_count": 31,
   "metadata": {},
   "outputs": [
    {
     "name": "stdout",
     "output_type": "stream",
     "text": [
      "m =  28.4157548181076\n",
      "m =  29\n"
     ]
    }
   ],
   "source": [
    "a = 0; b = pi/4; \n",
    "TOL = 1e-4;\n",
    "M_2 = 2;\n",
    "% Hiba ((b-a)^3/(12*m^2))*M_2 < TOL\n",
    "\n",
    "m = sqrt((((b-a)^3/(12))*M_2)/TOL)\n",
    "m = ceil(m)"
   ]
  },
  {
   "cell_type": "markdown",
   "metadata": {},
   "source": [
    "<br>\n",
    "<b>4.feladat.</b> Tanulmányozzuk a beépített <i>trapz</i>, <i>quad</i> és <i>quadk</i> parancsokat!"
   ]
  },
  {
   "cell_type": "code",
   "execution_count": 6,
   "metadata": {},
   "outputs": [
    {
     "name": "stdout",
     "output_type": "stream",
     "text": [
      "'trapz' is a function from the file /Applications/Octave-5.1.0.app/Contents/Resources/usr/Cellar/octave-octave-app@5.1.0/5.1.0/share/octave/5.1.0/m/general/trapz.m\n",
      "\n",
      " -- Q = trapz (Y)\n",
      " -- Q = trapz (X, Y)\n",
      " -- Q = trapz (..., DIM)\n",
      "\n",
      "     Numerically evaluate the integral of points Y using the trapezoidal\n",
      "     method.\n",
      "\n",
      "     'trapz (Y)' computes the integral of Y along the first\n",
      "     non-singleton dimension.  When the argument X is omitted an equally\n",
      "     spaced X vector with unit spacing (1) is assumed.  'trapz (X, Y)'\n",
      "     evaluates the integral with respect to the spacing in X and the\n",
      "     values in Y.  This is useful if the points in Y have been sampled\n",
      "     unevenly.\n",
      "\n",
      "     If the optional DIM argument is given, operate along this\n",
      "     dimension.\n",
      "\n",
      "     Application Note: If X is not specified then unit spacing will be\n",
      "     used.  To scale the integral to the correct value you must multiply\n",
      "     by the actual spacing value (deltaX). As an example, the integral\n",
      "     of x^3 over the range [0, 1] is x^4/4 or 0.25.  The following code\n",
      "     uses 'trapz' to calculate the integral in three different ways.\n",
      "\n",
      "          x = 0:0.1:1;\n",
      "          y = x.^3;\n",
      "          ## No scaling\n",
      "          q = trapz (y)\n",
      "            => q = 2.5250\n",
      "          ## Approximation to integral by scaling\n",
      "          q * 0.1\n",
      "            => 0.25250\n",
      "          ## Same result by specifying X\n",
      "          trapz (x, y)\n",
      "            => 0.25250\n",
      "\n",
      "     See also: cumtrapz.\n",
      "\n",
      "Additional help for built-in functions and operators is\n",
      "available in the online version of the manual.  Use the command\n",
      "'doc <topic>' to search the manual index.\n",
      "\n",
      "Help and information about Octave is also available on the WWW\n",
      "at https://www.octave.org and via the help@octave.org\n",
      "mailing list.\n",
      "beepitett_trapez =  1.827799334015910\n",
      "quadratura =  1.827847408574823\n",
      "adaptiv_gauss_konrod =  1.827847408574822\n"
     ]
    }
   ],
   "source": [
    "%% Megfelelo help parancsok tanulmanyozasa: helo trapz, help quad, ...\n",
    "help trapz\n",
    "% Beepitett Trapez\n",
    "x = 4:0.1:5.2;\n",
    "beepitett_trapez = trapz (x,log(x))\n",
    "% Kvadratura formula\n",
    "quadratura = quad (@(x) log(x), 4, 5.2)\n",
    "% Adaptiv Gauss-Konrod kvadratura\n",
    "adaptiv_gauss_konrod = quadgk (@(x) log(x), 4, 5.2)"
   ]
  },
  {
   "cell_type": "code",
   "execution_count": null,
   "metadata": {},
   "outputs": [],
   "source": []
  }
 ],
 "metadata": {
  "kernelspec": {
   "display_name": "Octave",
   "language": "octave",
   "name": "octave"
  },
  "language_info": {
   "file_extension": ".m",
   "help_links": [
    {
     "text": "GNU Octave",
     "url": "https://www.gnu.org/software/octave/support.html"
    },
    {
     "text": "Octave Kernel",
     "url": "https://github.com/Calysto/octave_kernel"
    },
    {
     "text": "MetaKernel Magics",
     "url": "https://github.com/calysto/metakernel/blob/master/metakernel/magics/README.md"
    }
   ],
   "mimetype": "text/x-octave",
   "name": "octave",
   "version": "4.2.2"
  }
 },
 "nbformat": 4,
 "nbformat_minor": 2
}
