{
 "cells": [
  {
   "cell_type": "markdown",
   "metadata": {},
   "source": [
    "## <center>5. Feladatsor</center>\n",
    "\n",
    "<img src=\"phd-supervision.jpg\" width=\"700\">"
   ]
  },
  {
   "cell_type": "markdown",
   "metadata": {},
   "source": [
    "Összetett kvadratúra képletek\n",
    "<br><br>\n",
    "Érintő:\n",
    "$$\\int_a^b f(x)dx\\approx \\frac{b-a}{n}\\sum_{i=0}^{n-1}f\\bigg(\\frac{x_i+x_{i+1}}{2}\\bigg)$$\n",
    "<br>\n",
    "Trapéz:\n",
    "$$\\int_a^b f(x)dx\\approx \\frac{b-a}{2n}\\bigg(f(a)+f(b)+2\\sum_{i=1}^{n-1}f(x_i)\\bigg)$$\n",
    "<br>\n",
    "Simpson\n",
    "$$\\int_a^b f(x)dx\\approx \\frac{b-a}{3n}\\bigg(f(a)+f(b)+2\\sum_{\\substack{i\\ \\text{ps} \\\\ i\\neq 0,n}}f(x_i)+4\\sum_{i\\ \\text{plan}}f(x_i)\\bigg)$$\n",
    "<br>"
   ]
  },
  {
   "cell_type": "markdown",
   "metadata": {},
   "source": [
    "1.feladat. Határozzuk meg az $f(x)=x^2-2x+2$ függvény közelítõ integrálját az $x=1,\\ 2,\\ 3$ alappontokon az alábbi Newton-Cotes formulákkal:<br>\n",
    "\n",
    "(a) érintőformula<br>\n",
    "(b) trapézformula<br>\n",
    "(c) Simpson-formula<br>"
   ]
  },
  {
   "cell_type": "code",
   "execution_count": 32,
   "metadata": {},
   "outputs": [
    {
     "name": "stdout",
     "output_type": "stream",
     "text": [
      "ans =  4\n"
     ]
    }
   ],
   "source": [
    "% Erinto formula\n",
    "format long\n",
    "a=1;\n",
    "b=3;\n",
    "h=(b-a);\n",
    "x=[a:h/2:b];\n",
    "fv=x.^2-2*x+2;\n",
    "y=eval('fv');\n",
    "(b-a)*y(2)"
   ]
  },
  {
   "cell_type": "code",
   "execution_count": 34,
   "metadata": {},
   "outputs": [
    {
     "name": "stdout",
     "output_type": "stream",
     "text": [
      "simpson =  4.66666666666667\n",
      "ans =      14/3\n"
     ]
    }
   ],
   "source": [
    "% Simpson formula 5. feladatra\n",
    "%Fontos, hogy n páros és n/2 részintervallumra alkalmazzuk\n",
    "format long\n",
    "a=1;\n",
    "b=3;\n",
    "n=4;\n",
    "h=(b-a)/n;\n",
    "x=[a:h:b];\n",
    "fv=x.^2-2*x+2;\n",
    "y=eval('fv');\n",
    "simpson=((b-a)/(3*n))*(y(1)+4*sum(y(2:2:n))+2*sum(y(3:2:n-1))+y(n+1))\n",
    "rats(simpson)\n"
   ]
  },
  {
   "cell_type": "markdown",
   "metadata": {},
   "source": [
    "<br>\n",
    "2.feladat. Oldjuk meg az előző feladatot a MATLAB integral és quad beépített függvényei segítségével! Melyiket érdemes használni a 2 beépített függvény közül és miért?\n",
    "\n",
    "<br>"
   ]
  },
  {
   "cell_type": "code",
   "execution_count": 35,
   "metadata": {},
   "outputs": [
    {
     "name": "stdout",
     "output_type": "stream",
     "text": [
      "warning: Octave provides many routines for 1-D numerical integration.  Consider\n",
      "quadcc, quad, quadv, quadl, quadgk.\n",
      "\n",
      "Please read <http://www.octave.org/missing.html> to learn how you can\n",
      "contribute missing functionality.\n",
      "error: 'integral' undefined near line 1 column 5\n"
     ]
    }
   ],
   "source": [
    "%% Ez csak MATLAB-ban megy és újabb verzió számmal\n",
    "fun = @(x) x.^2-2*x+2;\n",
    "q = integral(fun,1,3)"
   ]
  },
  {
   "cell_type": "code",
   "execution_count": 36,
   "metadata": {},
   "outputs": [
    {
     "name": "stdout",
     "output_type": "stream",
     "text": [
      "q =  4.66666666666667\n",
      "ans =      14/3\n"
     ]
    }
   ],
   "source": [
    "fun = @(x) x.^2-2*x+2;\n",
    "q = quad(fun,1,3) % Nem ajanlott (recursive adaptive Simpson quadrature)\n",
    "rats(q)"
   ]
  },
  {
   "cell_type": "markdown",
   "metadata": {},
   "source": [
    "További Octave lehetőségek\n",
    "https://octave.org/doc/v4.4.0/Functions-of-One-Variable.html#Functions-of-One-Variable"
   ]
  },
  {
   "cell_type": "markdown",
   "metadata": {},
   "source": [
    "3.feladat. Írjunk programot, meg egy $f(x)$ függvény közelítõ integrálját az $x=1,\\ 2,\\ 3$ alappontokon kiszámolja a tanult összetett Newton-Cotes formulákkal.<br>\n"
   ]
  },
  {
   "cell_type": "code",
   "execution_count": 37,
   "metadata": {},
   "outputs": [
    {
     "name": "stdout",
     "output_type": "stream",
     "text": [
      "\n",
      "A feladat megoldasa 4 intervallumon erintoszaballyal tortent.\n",
      "ans =  4.62500000000000\n",
      "\n",
      "A feladat megoldasa 12 intervallumon trapezszaballyal tortent.\n",
      "ans =  4.67592592592593\n",
      "\n",
      "A feladat megoldasa 8 Simpson-szaballyal tortent.\n",
      "ans =  4.66666666666667\n"
     ]
    }
   ],
   "source": [
    "kvadratura(1,3,4,'x.^2-2*x+2','erinto')\n",
    "kvadratura(1,3,12,'x.^2-2*x+2','trapez')\n",
    "kvadratura(1,3,8,'x.^2-2*x+2','Simpson')"
   ]
  },
  {
   "cell_type": "code",
   "execution_count": null,
   "metadata": {
    "collapsed": true
   },
   "outputs": [],
   "source": []
  }
 ],
 "metadata": {
  "kernelspec": {
   "display_name": "Octave",
   "language": "octave",
   "name": "octave"
  },
  "language_info": {
   "file_extension": ".m",
   "help_links": [
    {
     "text": "GNU Octave",
     "url": "https://www.gnu.org/software/octave/support.html"
    },
    {
     "text": "Octave Kernel",
     "url": "https://github.com/Calysto/octave_kernel"
    },
    {
     "text": "MetaKernel Magics",
     "url": "https://github.com/calysto/metakernel/blob/master/metakernel/magics/README.md"
    }
   ],
   "mimetype": "text/x-octave",
   "name": "octave",
   "version": "4.2.2"
  }
 },
 "nbformat": 4,
 "nbformat_minor": 2
}
