{
 "cells": [
  {
   "cell_type": "markdown",
   "metadata": {},
   "source": [
    "## <center>2. Feladatsor</center>\n",
    "\n",
    "<img src=\"holiday.gif\" width=\"700\">"
   ]
  },
  {
   "cell_type": "markdown",
   "metadata": {},
   "source": [
    "<br>\n",
    "<b>1.feladat.</b> Igazolható, hogy az \n",
    "\n",
    "$$f(x)=0.9\\cos(x),\\ x\\in[0,1]$$\n",
    "\n",
    "leképezés kontraktív, és hogy a Banach-féle fixponttétel feltételei teljesülnek. Írjunk szkriptet, mely megadja az \n",
    "\n",
    "$$||x^{(n)}-x^*||\\leq \\frac{q^n}{1-q}||x^{(1)}-x^{(0)}||<TOL$$\n",
    "\n",
    "formulában $n\\in\\mathbb{N}^+$ értékét, ha $q=0.9\\sin(1)$ és $TOL=10^{-12}$!"
   ]
  },
  {
   "cell_type": "code",
   "execution_count": null,
   "metadata": {},
   "outputs": [],
   "source": []
  },
  {
   "cell_type": "markdown",
   "metadata": {},
   "source": [
    "<br>\n",
    "<b>2.feladat.</b> Tekintsük az előző feladatsor utolsó feladatának általánosítását. Azaz írjunk olyan programot, mely megadja az \n",
    "\n",
    "$$||x^{(n)}-x^*||\\leq \\frac{q^n}{1-q}||x^{(1)}-x^{(0)}||<TOL$$\n",
    "\n",
    "formulában $n\\in\\mathbb{N}^+$ értékét, ha annak bemenő paraméterei:\n",
    "\n",
    "- $f$ konkraktív <br>\n",
    "- $q$ kontrakciós állandó <br>\n",
    "- $x^{(0)}$ kezdeti érték <br>\n",
    "- $TOL$ tolerancia szint"
   ]
  },
  {
   "cell_type": "code",
   "execution_count": null,
   "metadata": {},
   "outputs": [],
   "source": []
  },
  {
   "cell_type": "markdown",
   "metadata": {},
   "source": [
    "<br>\n",
    "<b>3.feladat.</b> Írjunk programot, amely tetszőleges függvényre adott kezdetiérték mellett alkalmazza az egyszerű iterációt! A program leállási feltételét a maximális iterációs szám adja! A program használja  a <i>while</i> ciklust és az <i>eval</i> függvényt!"
   ]
  },
  {
   "cell_type": "code",
   "execution_count": null,
   "metadata": {},
   "outputs": [],
   "source": []
  },
  {
   "cell_type": "markdown",
   "metadata": {},
   "source": [
    "<br>\n",
    "<b>4.feladat.</b> Írjunk programot, amely kontraktív függvényre adott kezdetiérték mellett alkalmazza az egyszerű iterációt maximális iterációs szám és relatív hiba leállási feltételekkel! A program eredményként írja ki a felhasznált iterációk számát és az iterált vektor utolsó elemét!"
   ]
  },
  {
   "cell_type": "code",
   "execution_count": null,
   "metadata": {},
   "outputs": [],
   "source": []
  },
  {
   "cell_type": "markdown",
   "metadata": {},
   "source": [
    "<br>\n",
    "<b>5.feladat.</b> A <i>norm</i> beépített parancs használata nélkül írjunk programot, mely egy adott $A\\in\\mathbb{R}^{n\\times n}$ mátrix 1-es, 2-es, maximum és Frobenius normáit számolja ki! Ha a bemenő paraméter nem megfelelő, akkor a program ezt hibaüzenet formájában jelezze!"
   ]
  },
  {
   "cell_type": "code",
   "execution_count": null,
   "metadata": {},
   "outputs": [],
   "source": []
  }
 ],
 "metadata": {
  "kernelspec": {
   "display_name": "Octave",
   "language": "octave",
   "name": "octave"
  },
  "language_info": {
   "file_extension": ".m",
   "help_links": [
    {
     "text": "GNU Octave",
     "url": "https://www.gnu.org/software/octave/support.html"
    },
    {
     "text": "Octave Kernel",
     "url": "https://github.com/Calysto/octave_kernel"
    },
    {
     "text": "MetaKernel Magics",
     "url": "https://metakernel.readthedocs.io/en/latest/source/README.html"
    }
   ],
   "mimetype": "text/x-octave",
   "name": "octave",
   "version": "5.1.0"
  }
 },
 "nbformat": 4,
 "nbformat_minor": 2
}
