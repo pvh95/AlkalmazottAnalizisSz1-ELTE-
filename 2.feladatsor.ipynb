{
 "cells": [
  {
   "cell_type": "markdown",
   "metadata": {},
   "source": [
    "## <center>2. Feladatsor</center>\n",
    "\n",
    "<img src=\"holiday.gif\" width=\"700\">"
   ]
  },
  {
   "cell_type": "markdown",
   "metadata": {},
   "source": [
    "<br>\n",
    "<b>1.feladat.</b> Igazolható, hogy az \n",
    "\n",
    "$$f(x)=0.9\\cos(x),\\ x\\in[0,1]$$\n",
    "\n",
    "leképezés kontraktív, és hogy a Banach-féle fixponttétel feltételei teljesülnek. Írjunk szkriptet, mely megadja az \n",
    "\n",
    "$$||x^{(n)}-x^*||\\leq \\frac{q^n}{1-q}||x^{(1)}-x^{(0)}||<TOL$$\n",
    "\n",
    "formulában $n\\in\\mathbb{N}^+$ értékét, ha $q=0.9\\sin(1)$ és $TOL=10^{-12}$!"
   ]
  },
  {
   "cell_type": "code",
   "execution_count": 1,
   "metadata": {},
   "outputs": [
    {
     "name": "stdout",
     "output_type": "stream",
     "text": [
      "n =  102.10\n",
      " 103\n"
     ]
    }
   ],
   "source": [
    "TOL=1e-12;\n",
    "x_0=1; q=0.9*sin(1);\n",
    "x_1=0.9*cos(x_0);\n",
    "n=log(((1-q)*TOL)/(abs(x_1-x_0)))/log(q)\n",
    "ceil(n);\n",
    "disp(ceil(n))"
   ]
  },
  {
   "cell_type": "markdown",
   "metadata": {},
   "source": [
    "<br>\n",
    "<b>2.feladat.</b> Tekintsük az előző feladatsor utolsó feladatának általánosítását. Azaz írjunk olyan programot, mely megadja az \n",
    "\n",
    "$$||x^{(n)}-x^*||\\leq \\frac{q^n}{1-q}||x^{(1)}-x^{(0)}||<TOL$$\n",
    "\n",
    "formulában $n\\in\\mathbb{N}^+$ értékét, ha annak bemenő paraméterei:\n",
    "\n",
    "- $f$ konkraktív <br>\n",
    "- $q$ kontrakciós állandó <br>\n",
    "- $x^{(0)}$ kezdeti érték <br>\n",
    "- $TOL$ tolerancia szint"
   ]
  },
  {
   "cell_type": "code",
   "execution_count": 3,
   "metadata": {},
   "outputs": [
    {
     "name": "stdout",
     "output_type": "stream",
     "text": [
      "iter =  103\n",
      "\n",
      "iter =  40\n",
      "\n",
      "iter =  70\n",
      "\n"
     ]
    }
   ],
   "source": [
    "% Elozo orai pelda\n",
    "[iter] = banachiter(@(x)(0.9*cos(x)),0.9*sin(1),1,1e-12)\n",
    "% Uj pelda\n",
    "[iter] = banachiter(@(x)((1/2)*(x+2/x)),1/2,1,1e-12)\n",
    "\n",
    "[iter] = banachiter(@(x)(x^2),0.8,0.01,1e-8)"
   ]
  },
  {
   "cell_type": "markdown",
   "metadata": {},
   "source": [
    "<br>\n",
    "<b>3.feladat.</b> Írjunk programot, amely tetszőleges függvényre adott kezdetiérték mellett alkalmazza az egyszerű iterációt! A program leállási feltételét a maximális iterációs szám adja! A program használja  a <i>while</i> ciklust és az <i>eval</i> függvényt!"
   ]
  },
  {
   "cell_type": "code",
   "execution_count": 3,
   "metadata": {},
   "outputs": [
    {
     "name": "stdout",
     "output_type": "stream",
     "text": [
      "eredmeny =  0.692618779562046\n",
      "eredmeny =  1.41421356237309\n"
     ]
    }
   ],
   "source": [
    "[eredmeny] = egyszeruit('0.9*cos(x)',1,103)\n",
    "[eredmeny] = egyszeruit('(1/2)*(x+2/x)',1,103)\n"
   ]
  },
  {
   "cell_type": "markdown",
   "metadata": {},
   "source": [
    "<br>\n",
    "<b>4.feladat.</b> Írjunk programot, amely kontraktív függvényre adott kezdetiérték mellett alkalmazza az egyszerű iterációt maximális iterációs szám és relatív hiba leállási feltételekkel! A program eredményként írja ki a felhasznált iterációk számát és az iterált vektor utolsó elemét!"
   ]
  },
  {
   "cell_type": "code",
   "execution_count": 1,
   "metadata": {},
   "outputs": [
    {
     "name": "stdout",
     "output_type": "stream",
     "text": [
      "xnum =  0.69262\r\n",
      "iter =  51\r\n"
     ]
    }
   ],
   "source": [
    "[xnum iter] = fixpont(1,@(x)0.9*cos(x),1e-12,100)"
   ]
  },
  {
   "cell_type": "markdown",
   "metadata": {},
   "source": [
    "<br>\n",
    "<b>5.feladat.</b> A <i>norm</i> beépített parancs használata nélkül írjunk programot, mely egy adott $A\\in\\mathbb{R}^{n\\times n}$ mátrix 1-es, 2-es, maximum és Frobenius normáit számolja ki! Ha a bemenő paraméter nem megfelelő, akkor a program ezt hibaüzenet formájában jelezze!"
   ]
  },
  {
   "cell_type": "code",
   "execution_count": 3,
   "metadata": {},
   "outputs": [
    {
     "name": "stdout",
     "output_type": "stream",
     "text": [
      "norma_1 =  14\n",
      "norma_2 =  11.245\n",
      "norma_inf =  11\n",
      "norma_fro =  11.832\n"
     ]
    }
   ],
   "source": [
    "A=[1 2 -3; -2 -1 0; 0 -11 0];\n",
    "[norma_1, norma_2, norma_inf, norma_fro] = norma(A)"
   ]
  },
  {
   "cell_type": "code",
   "execution_count": null,
   "metadata": {
    "collapsed": true
   },
   "outputs": [],
   "source": []
  },
  {
   "cell_type": "code",
   "execution_count": null,
   "metadata": {
    "collapsed": true
   },
   "outputs": [],
   "source": []
  }
 ],
 "metadata": {
  "kernelspec": {
   "display_name": "Octave",
   "language": "octave",
   "name": "octave"
  },
  "language_info": {
   "file_extension": ".m",
   "help_links": [
    {
     "text": "GNU Octave",
     "url": "https://www.gnu.org/software/octave/support.html"
    },
    {
     "text": "Octave Kernel",
     "url": "https://github.com/Calysto/octave_kernel"
    },
    {
     "text": "MetaKernel Magics",
     "url": "https://github.com/calysto/metakernel/blob/master/metakernel/magics/README.md"
    }
   ],
   "mimetype": "text/x-octave",
   "name": "octave",
   "version": "4.2.2"
  }
 },
 "nbformat": 4,
 "nbformat_minor": 2
}
