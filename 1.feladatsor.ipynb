{
 "cells": [
  {
   "cell_type": "markdown",
   "metadata": {},
   "source": [
    "# <center>Az alkalmazott analízis számítógépes módszerei 1.</center>"
   ]
  },
  {
   "cell_type": "markdown",
   "metadata": {},
   "source": [
    "## <center>Fekete Imre</center>"
   ]
  },
  {
   "cell_type": "markdown",
   "metadata": {},
   "source": [
    "### <center>Alkalmazott Analízis és Számításmatematikai Tanszék</center>\n",
    "\n"
   ]
  },
  {
   "cell_type": "markdown",
   "metadata": {},
   "source": [
    "<img src=\"cimer2.jpg\" width=\"400\">\n",
    "<br>\n",
    "<br>\n",
    "<br>\n",
    "<br>\n",
    "\n",
    "### Általános információk:\n",
    "+ <span class=\"fa fa-building-o\"></span> Déli Tömb 3.702</li>\n",
    "+ Honlap: <a href=\"http://imrefekete.web.elte.hu/\" target=\"_blank\">http://imrefekete.web.elte.hu/</a>\n",
    "+ Fogadóórák: H 11-12 és Sz 13-14\n",
    "+ A kurzushoz kapcsolódó minden anyag és csoportos levelezés megtalálható a <a href=\"https://github.com/feipaat/AlkalmazottAnalizisSz1-ELTE-\">https://github.com/feipaat/AlkalmazottAnalizisSz1-ELTE-</a> GitHub honlapon.\n",
    "\n",
    "### Számonkérés:\n",
    "\n",
    "+ 2 db zárthelyi (csak futtatható kódokat értékelünk)\n",
    "+ Beadható feladatokkal lehet bónuszpontokat szerezni\n",
    "<br>\n",
    "<br>\n",
    "\n",
    "\n",
    "### 3 kívánság:\n",
    "<br>\n",
    "\n",
    "<div style=\"width:870 px\"></div>\n",
    "<div style=\"float:left\"><img src=\"questions.jpg\" width=\"450\" title=\"Bátran kérdezzünk!\"/></div>\n",
    "<div style=\"float:left\"><img src=\"practice.jpg\" width=\"400\" title=\"Gyakorlat teszi a mestert!\"/></div>\n",
    "<div style=\"float:left\"><img src=\"positive.jpg\" width=\"870\" title=\"A jó légkör sem árt!\"/></div> \n",
    "<div style=\"clear:both\"></div> \n",
    "<br>\n",
    "<br> \n",
    "\n",
    "#### Bevezető MATLAB\n",
    "+ Stoyan Gisbert: MATLAB (magyar nyelvű)\n",
    "+ Cleve B. Moler: Numerical Computing with MATLAB"
   ]
  },
  {
   "cell_type": "markdown",
   "metadata": {},
   "source": [
    "# <center>1.feladatsor</center>"
   ]
  },
  {
   "cell_type": "markdown",
   "metadata": {},
   "source": [
    "<br>\n",
    "<b>1.feladat.</b> Tekintsük az $M(2,4,-3,2)$ gép számok halmazából az alábbi pozitív normalizált lebegőpontos számokat:\n",
    "\n",
    "\n",
    "\n",
    "\n",
    "| | $k=0$ | $k=1$ | $k=2$ | $k=-1$ | $k=-2$ | $k=-3$ | \n",
    "| --- | --- | --- | --- | --- | --- | --- | \n",
    "| $0.1000$ | $\\frac{8}{16}$ | $\\frac{8}{8}$ | $\\frac{8}{4}$ | $\\frac{8}{32}$ | $\\frac{8}{64}$ | $\\frac{8}{128}$ |\n",
    "| $0.1001$ | $\\frac{9}{16}$ | $\\frac{9}{8}$ | $\\frac{9}{4}$ | $\\frac{9}{32}$ | $\\frac{9}{64}$ | $\\frac{9}{128}$ |\n",
    "| $0.1010$ | $\\frac{10}{16}$ | $\\frac{10}{8}$ | $\\frac{10}{4}$ | $\\frac{10}{32}$ | $\\frac{10}{64}$ | $\\frac{10}{128}$|\n",
    "| $0.1011$ | $\\frac{11}{16}$ | $\\frac{11}{8}$ | $\\frac{11}{4}$ | $\\frac{11}{32}$ | $\\frac{11}{64}$ | $\\frac{11}{128}$|\n",
    "| $0.1100$ | $\\frac{12}{16}$ | $\\frac{12}{8}$ | $\\frac{12}{4}$ | $\\frac{12}{32}$ | $\\frac{12}{64}$ | $\\frac{12}{128}$ |\n",
    "| $0.1101$ | $\\frac{13}{16}$ | $\\frac{13}{8}$ | $\\frac{13}{4}$ | $\\frac{13}{32}$ | $\\frac{13}{64}$ | $\\frac{13}{128}$ |\n",
    "| $0.1110$ | $\\frac{14}{16}$ | $\\frac{14}{8}$ | $\\frac{14}{4}$ | $\\frac{14}{32}$ | $\\frac{14}{64}$ | $\\frac{14}{128}$ |\n",
    "| $0.1111$ | $\\frac{15}{16}$ | $\\frac{15}{8}$ | $\\frac{15}{4}$ | $\\frac{15}{32}$ | $\\frac{15}{64}$ | $\\frac{15}{128}$ \n",
    "\n",
    "Írjunk szkriptet, mely ábrázolja a számegyenesen ezeket a számokat!"
   ]
  },
  {
   "cell_type": "code",
   "execution_count": 2,
   "metadata": {},
   "outputs": [
    {
     "data": {
      "image/svg+xml": [
       "<svg height=\"420px\" viewBox=\"0 0 560 420\" width=\"560px\" xmlns=\"http://www.w3.org/2000/svg\" xmlns:xlink=\"http://www.w3.org/1999/xlink\">\n",
       "\n",
       "<title>Gnuplot</title>\n",
       "<desc>Produced by GNUPLOT 5.2 patchlevel 8 </desc>\n",
       "\n",
       "<g id=\"gnuplot_canvas\">\n",
       "\n",
       "<rect fill=\"#ffffff\" height=\"420\" width=\"560\" x=\"0\" y=\"0\"/>\n",
       "<defs>\n",
       "\n",
       "\t<circle id=\"gpDot\" r=\"0.5\" stroke=\"currentColor\" stroke-width=\"0.5\"/>\n",
       "\t<path d=\"M-1,0 h2 M0,-1 v2\" id=\"gpPt0\" stroke=\"currentColor\" stroke-width=\"0.357\"/>\n",
       "\t<path d=\"M-1,-1 L1,1 M1,-1 L-1,1\" id=\"gpPt1\" stroke=\"currentColor\" stroke-width=\"0.357\"/>\n",
       "\t<path d=\"M-1,0 L1,0 M0,-1 L0,1 M-1,-1 L1,1 M-1,1 L1,-1\" id=\"gpPt2\" stroke=\"currentColor\" stroke-width=\"0.357\"/>\n",
       "\t<rect height=\"2\" id=\"gpPt3\" stroke=\"currentColor\" stroke-width=\"0.357\" width=\"2\" x=\"-1\" y=\"-1\"/>\n",
       "\t<rect fill=\"currentColor\" height=\"2\" id=\"gpPt4\" stroke=\"currentColor\" stroke-width=\"0.357\" width=\"2\" x=\"-1\" y=\"-1\"/>\n",
       "\t<circle cx=\"0\" cy=\"0\" id=\"gpPt5\" r=\"1\" stroke=\"currentColor\" stroke-width=\"0.357\"/>\n",
       "\t<use fill=\"currentColor\" id=\"gpPt6\" stroke=\"none\" xlink:href=\"#gpPt5\"/>\n",
       "\t<path d=\"M0,-1.33 L-1.33,0.67 L1.33,0.67 z\" id=\"gpPt7\" stroke=\"currentColor\" stroke-width=\"0.357\"/>\n",
       "\t<use fill=\"currentColor\" id=\"gpPt8\" stroke=\"none\" xlink:href=\"#gpPt7\"/>\n",
       "\t<use id=\"gpPt9\" stroke=\"currentColor\" transform=\"rotate(180)\" xlink:href=\"#gpPt7\"/>\n",
       "\t<use fill=\"currentColor\" id=\"gpPt10\" stroke=\"none\" xlink:href=\"#gpPt9\"/>\n",
       "\t<use id=\"gpPt11\" stroke=\"currentColor\" transform=\"rotate(45)\" xlink:href=\"#gpPt3\"/>\n",
       "\t<use fill=\"currentColor\" id=\"gpPt12\" stroke=\"none\" xlink:href=\"#gpPt11\"/>\n",
       "\t<path d=\"M0,1.330 L1.265,0.411 L0.782,-1.067 L-0.782,-1.076 L-1.265,0.411 z\" id=\"gpPt13\" stroke=\"currentColor\" stroke-width=\"0.357\"/>\n",
       "\t<use fill=\"currentColor\" id=\"gpPt14\" stroke=\"none\" xlink:href=\"#gpPt13\"/>\n",
       "\t<filter filterUnits=\"objectBoundingBox\" height=\"1\" id=\"textbox\" width=\"1\" x=\"0\" y=\"0\">\n",
       "\t  <feFlood flood-color=\"#FFFFFF\" flood-opacity=\"1\" result=\"bgnd\"/>\n",
       "\t  <feComposite in=\"SourceGraphic\" in2=\"bgnd\" operator=\"atop\"/>\n",
       "\t</filter>\n",
       "\t<filter filterUnits=\"objectBoundingBox\" height=\"1\" id=\"greybox\" width=\"1\" x=\"0\" y=\"0\">\n",
       "\t  <feFlood flood-color=\"lightgrey\" flood-opacity=\"1\" result=\"grey\"/>\n",
       "\t  <feComposite in=\"SourceGraphic\" in2=\"grey\" operator=\"atop\"/>\n",
       "\t</filter>\n",
       "</defs>\n",
       "<g color=\"#FFFFFF\" fill=\"none\" stroke=\"currentColor\" stroke-linecap=\"butt\" stroke-linejoin=\"miter\" stroke-width=\"1.00\">\n",
       "</g>\n",
       "<g color=\"black\" fill=\"none\" stroke=\"currentColor\" stroke-linecap=\"butt\" stroke-linejoin=\"miter\" stroke-width=\"1.00\">\n",
       "\t<g shape-rendering=\"crispEdges\" stroke=\"none\">\n",
       "\t\t<polygon fill=\"rgb(255, 255, 255)\" points=\"49.4,397.6 544.2,397.6 544.2,39.1 49.4,39.1 \"/>\n",
       "\t</g>\n",
       "</g>\n",
       "<g color=\"black\" fill=\"none\" stroke=\"currentColor\" stroke-linecap=\"butt\" stroke-linejoin=\"miter\" stroke-width=\"1.00\">\n",
       "\t<path d=\"M49.4,397.6 L57.2,397.6 M544.3,397.6 L536.5,397.6  \" stroke=\"rgb(  0,   0,   0)\"/>\t<g fill=\"rgb(38,38,38)\" font-family=\"Arial\" font-size=\"10.00\" stroke=\"none\" text-anchor=\"end\" transform=\"translate(44.2,400.9)\">\n",
       "\t\t<text><tspan font-family=\"Arial\">-0.001</tspan></text>\n",
       "\t</g>\n",
       "</g>\n",
       "<g color=\"black\" fill=\"none\" stroke=\"currentColor\" stroke-linecap=\"butt\" stroke-linejoin=\"miter\" stroke-width=\"1.00\">\n",
       "\t<path d=\"M49.4,307.9 L57.2,307.9 M544.3,307.9 L536.5,307.9  \" stroke=\"rgb(  0,   0,   0)\"/>\t<g fill=\"rgb(38,38,38)\" font-family=\"Arial\" font-size=\"10.00\" stroke=\"none\" text-anchor=\"end\" transform=\"translate(44.2,311.2)\">\n",
       "\t\t<text><tspan font-family=\"Arial\">-0.0005</tspan></text>\n",
       "\t</g>\n",
       "</g>\n",
       "<g color=\"black\" fill=\"none\" stroke=\"currentColor\" stroke-linecap=\"butt\" stroke-linejoin=\"miter\" stroke-width=\"1.00\">\n",
       "\t<path d=\"M49.4,218.3 L57.2,218.3 M544.3,218.3 L536.5,218.3  \" stroke=\"rgb(  0,   0,   0)\"/>\t<g fill=\"rgb(38,38,38)\" font-family=\"Arial\" font-size=\"10.00\" stroke=\"none\" text-anchor=\"end\" transform=\"translate(44.2,221.6)\">\n",
       "\t\t<text><tspan font-family=\"Arial\">0</tspan></text>\n",
       "\t</g>\n",
       "</g>\n",
       "<g color=\"black\" fill=\"none\" stroke=\"currentColor\" stroke-linecap=\"butt\" stroke-linejoin=\"miter\" stroke-width=\"1.00\">\n",
       "\t<path d=\"M49.4,128.6 L57.2,128.6 M544.3,128.6 L536.5,128.6  \" stroke=\"rgb(  0,   0,   0)\"/>\t<g fill=\"rgb(38,38,38)\" font-family=\"Arial\" font-size=\"10.00\" stroke=\"none\" text-anchor=\"end\" transform=\"translate(44.2,131.9)\">\n",
       "\t\t<text><tspan font-family=\"Arial\">0.0005</tspan></text>\n",
       "\t</g>\n",
       "</g>\n",
       "<g color=\"black\" fill=\"none\" stroke=\"currentColor\" stroke-linecap=\"butt\" stroke-linejoin=\"miter\" stroke-width=\"1.00\">\n",
       "\t<path d=\"M49.4,39.0 L57.2,39.0 M544.3,39.0 L536.5,39.0  \" stroke=\"rgb(  0,   0,   0)\"/>\t<g fill=\"rgb(38,38,38)\" font-family=\"Arial\" font-size=\"10.00\" stroke=\"none\" text-anchor=\"end\" transform=\"translate(44.2,42.3)\">\n",
       "\t\t<text><tspan font-family=\"Arial\">0.001</tspan></text>\n",
       "\t</g>\n",
       "</g>\n",
       "<g color=\"black\" fill=\"none\" stroke=\"currentColor\" stroke-linecap=\"butt\" stroke-linejoin=\"miter\" stroke-width=\"1.00\">\n",
       "\t<path d=\"M49.4,397.6 L49.4,389.8 M49.4,39.0 L49.4,46.8  \" stroke=\"rgb(  0,   0,   0)\"/>\t<g fill=\"rgb(38,38,38)\" font-family=\"Arial\" font-size=\"10.00\" stroke=\"none\" text-anchor=\"middle\" transform=\"translate(49.4,412.1)\">\n",
       "\t\t<text><tspan font-family=\"Arial\">0</tspan></text>\n",
       "\t</g>\n",
       "</g>\n",
       "<g color=\"black\" fill=\"none\" stroke=\"currentColor\" stroke-linecap=\"butt\" stroke-linejoin=\"miter\" stroke-width=\"1.00\">\n",
       "\t<path d=\"M173.1,397.6 L173.1,389.8 M173.1,39.0 L173.1,46.8  \" stroke=\"rgb(  0,   0,   0)\"/>\t<g fill=\"rgb(38,38,38)\" font-family=\"Arial\" font-size=\"10.00\" stroke=\"none\" text-anchor=\"middle\" transform=\"translate(173.1,412.1)\">\n",
       "\t\t<text><tspan font-family=\"Arial\">1</tspan></text>\n",
       "\t</g>\n",
       "</g>\n",
       "<g color=\"black\" fill=\"none\" stroke=\"currentColor\" stroke-linecap=\"butt\" stroke-linejoin=\"miter\" stroke-width=\"1.00\">\n",
       "\t<path d=\"M296.9,397.6 L296.9,389.8 M296.9,39.0 L296.9,46.8  \" stroke=\"rgb(  0,   0,   0)\"/>\t<g fill=\"rgb(38,38,38)\" font-family=\"Arial\" font-size=\"10.00\" stroke=\"none\" text-anchor=\"middle\" transform=\"translate(296.9,412.1)\">\n",
       "\t\t<text><tspan font-family=\"Arial\">2</tspan></text>\n",
       "\t</g>\n",
       "</g>\n",
       "<g color=\"black\" fill=\"none\" stroke=\"currentColor\" stroke-linecap=\"butt\" stroke-linejoin=\"miter\" stroke-width=\"1.00\">\n",
       "\t<path d=\"M420.6,397.6 L420.6,389.8 M420.6,39.0 L420.6,46.8  \" stroke=\"rgb(  0,   0,   0)\"/>\t<g fill=\"rgb(38,38,38)\" font-family=\"Arial\" font-size=\"10.00\" stroke=\"none\" text-anchor=\"middle\" transform=\"translate(420.6,412.1)\">\n",
       "\t\t<text><tspan font-family=\"Arial\">3</tspan></text>\n",
       "\t</g>\n",
       "</g>\n",
       "<g color=\"black\" fill=\"none\" stroke=\"currentColor\" stroke-linecap=\"butt\" stroke-linejoin=\"miter\" stroke-width=\"1.00\">\n",
       "\t<path d=\"M544.3,397.6 L544.3,389.8 M544.3,39.0 L544.3,46.8  \" stroke=\"rgb(  0,   0,   0)\"/>\t<g fill=\"rgb(38,38,38)\" font-family=\"Arial\" font-size=\"10.00\" stroke=\"none\" text-anchor=\"middle\" transform=\"translate(544.3,412.1)\">\n",
       "\t\t<text><tspan font-family=\"Arial\">4</tspan></text>\n",
       "\t</g>\n",
       "</g>\n",
       "<g color=\"black\" fill=\"none\" stroke=\"currentColor\" stroke-linecap=\"butt\" stroke-linejoin=\"miter\" stroke-width=\"1.00\">\n",
       "</g>\n",
       "<g color=\"black\" fill=\"none\" stroke=\"currentColor\" stroke-linecap=\"butt\" stroke-linejoin=\"miter\" stroke-width=\"1.00\">\n",
       "\t<g fill=\"rgb(0,0,0)\" font-family=\":Bold\" font-size=\"11.00\" stroke=\"none\" text-anchor=\"middle\" transform=\"translate(296.8,20.5)\">\n",
       "\t\t<text><tspan font-family=\"\" font-weight=\"bold\">M(2,4,-3,2) gepi szamok halmaza</tspan></text>\n",
       "\t</g>\n",
       "</g>\n",
       "<g color=\"black\" fill=\"none\" stroke=\"currentColor\" stroke-linecap=\"butt\" stroke-linejoin=\"miter\" stroke-width=\"1.00\">\n",
       "</g>\n",
       "\t<g id=\"gnuplot_plot_1a\"><title>gnuplot_plot_1a</title>\n",
       "<g color=\"#FFFFFF\" fill=\"none\" stroke=\"currentColor\" stroke-linecap=\"butt\" stroke-linejoin=\"miter\" stroke-width=\"0.50\">\n",
       "</g>\n",
       "<g color=\"black\" fill=\"none\" stroke=\"currentColor\" stroke-linecap=\"butt\" stroke-linejoin=\"miter\" stroke-width=\"0.50\">\n",
       "\t<use color=\"rgb(255,   0, 255)\" transform=\"translate(296.9,218.3) scale(5.60)\" xlink:href=\"#gpPt5\"/>\n",
       "\t<use color=\"rgb(255,   0, 255)\" transform=\"translate(327.8,218.3) scale(5.60)\" xlink:href=\"#gpPt5\"/>\n",
       "\t<use color=\"rgb(255,   0, 255)\" transform=\"translate(358.7,218.3) scale(5.60)\" xlink:href=\"#gpPt5\"/>\n",
       "\t<use color=\"rgb(255,   0, 255)\" transform=\"translate(389.6,218.3) scale(5.60)\" xlink:href=\"#gpPt5\"/>\n",
       "\t<use color=\"rgb(255,   0, 255)\" transform=\"translate(420.6,218.3) scale(5.60)\" xlink:href=\"#gpPt5\"/>\n",
       "\t<use color=\"rgb(255,   0, 255)\" transform=\"translate(451.5,218.3) scale(5.60)\" xlink:href=\"#gpPt5\"/>\n",
       "\t<use color=\"rgb(255,   0, 255)\" transform=\"translate(482.4,218.3) scale(5.60)\" xlink:href=\"#gpPt5\"/>\n",
       "\t<use color=\"rgb(255,   0, 255)\" transform=\"translate(513.4,218.3) scale(5.60)\" xlink:href=\"#gpPt5\"/>\n",
       "\t<use color=\"rgb(255,   0, 255)\" transform=\"translate(173.1,218.3) scale(5.60)\" xlink:href=\"#gpPt5\"/>\n",
       "\t<use color=\"rgb(255,   0, 255)\" transform=\"translate(188.6,218.3) scale(5.60)\" xlink:href=\"#gpPt5\"/>\n",
       "\t<use color=\"rgb(255,   0, 255)\" transform=\"translate(204.1,218.3) scale(5.60)\" xlink:href=\"#gpPt5\"/>\n",
       "\t<use color=\"rgb(255,   0, 255)\" transform=\"translate(219.5,218.3) scale(5.60)\" xlink:href=\"#gpPt5\"/>\n",
       "\t<use color=\"rgb(255,   0, 255)\" transform=\"translate(235.0,218.3) scale(5.60)\" xlink:href=\"#gpPt5\"/>\n",
       "\t<use color=\"rgb(255,   0, 255)\" transform=\"translate(250.5,218.3) scale(5.60)\" xlink:href=\"#gpPt5\"/>\n",
       "\t<use color=\"rgb(255,   0, 255)\" transform=\"translate(265.9,218.3) scale(5.60)\" xlink:href=\"#gpPt5\"/>\n",
       "\t<use color=\"rgb(255,   0, 255)\" transform=\"translate(281.4,218.3) scale(5.60)\" xlink:href=\"#gpPt5\"/>\n",
       "\t<use color=\"rgb(255,   0, 255)\" transform=\"translate(111.3,218.3) scale(5.60)\" xlink:href=\"#gpPt5\"/>\n",
       "\t<use color=\"rgb(255,   0, 255)\" transform=\"translate(119.0,218.3) scale(5.60)\" xlink:href=\"#gpPt5\"/>\n",
       "\t<use color=\"rgb(255,   0, 255)\" transform=\"translate(126.7,218.3) scale(5.60)\" xlink:href=\"#gpPt5\"/>\n",
       "\t<use color=\"rgb(255,   0, 255)\" transform=\"translate(134.5,218.3) scale(5.60)\" xlink:href=\"#gpPt5\"/>\n",
       "\t<use color=\"rgb(255,   0, 255)\" transform=\"translate(142.2,218.3) scale(5.60)\" xlink:href=\"#gpPt5\"/>\n",
       "\t<use color=\"rgb(255,   0, 255)\" transform=\"translate(149.9,218.3) scale(5.60)\" xlink:href=\"#gpPt5\"/>\n",
       "\t<use color=\"rgb(255,   0, 255)\" transform=\"translate(157.7,218.3) scale(5.60)\" xlink:href=\"#gpPt5\"/>\n",
       "\t<use color=\"rgb(255,   0, 255)\" transform=\"translate(165.4,218.3) scale(5.60)\" xlink:href=\"#gpPt5\"/>\n",
       "\t<use color=\"rgb(255,   0, 255)\" transform=\"translate(80.3,218.3) scale(5.60)\" xlink:href=\"#gpPt5\"/>\n",
       "\t<use color=\"rgb(255,   0, 255)\" transform=\"translate(84.2,218.3) scale(5.60)\" xlink:href=\"#gpPt5\"/>\n",
       "\t<use color=\"rgb(255,   0, 255)\" transform=\"translate(88.1,218.3) scale(5.60)\" xlink:href=\"#gpPt5\"/>\n",
       "\t<use color=\"rgb(255,   0, 255)\" transform=\"translate(91.9,218.3) scale(5.60)\" xlink:href=\"#gpPt5\"/>\n",
       "\t<use color=\"rgb(255,   0, 255)\" transform=\"translate(95.8,218.3) scale(5.60)\" xlink:href=\"#gpPt5\"/>\n",
       "\t<use color=\"rgb(255,   0, 255)\" transform=\"translate(99.7,218.3) scale(5.60)\" xlink:href=\"#gpPt5\"/>\n",
       "\t<use color=\"rgb(255,   0, 255)\" transform=\"translate(103.5,218.3) scale(5.60)\" xlink:href=\"#gpPt5\"/>\n",
       "\t<use color=\"rgb(255,   0, 255)\" transform=\"translate(107.4,218.3) scale(5.60)\" xlink:href=\"#gpPt5\"/>\n",
       "\t<use color=\"rgb(255,   0, 255)\" transform=\"translate(64.9,218.3) scale(5.60)\" xlink:href=\"#gpPt5\"/>\n",
       "\t<use color=\"rgb(255,   0, 255)\" transform=\"translate(66.8,218.3) scale(5.60)\" xlink:href=\"#gpPt5\"/>\n",
       "\t<use color=\"rgb(255,   0, 255)\" transform=\"translate(68.7,218.3) scale(5.60)\" xlink:href=\"#gpPt5\"/>\n",
       "\t<use color=\"rgb(255,   0, 255)\" transform=\"translate(70.7,218.3) scale(5.60)\" xlink:href=\"#gpPt5\"/>\n",
       "\t<use color=\"rgb(255,   0, 255)\" transform=\"translate(72.6,218.3) scale(5.60)\" xlink:href=\"#gpPt5\"/>\n",
       "\t<use color=\"rgb(255,   0, 255)\" transform=\"translate(74.5,218.3) scale(5.60)\" xlink:href=\"#gpPt5\"/>\n",
       "\t<use color=\"rgb(255,   0, 255)\" transform=\"translate(76.5,218.3) scale(5.60)\" xlink:href=\"#gpPt5\"/>\n",
       "\t<use color=\"rgb(255,   0, 255)\" transform=\"translate(78.4,218.3) scale(5.60)\" xlink:href=\"#gpPt5\"/>\n",
       "\t<use color=\"rgb(255,   0, 255)\" transform=\"translate(57.1,218.3) scale(5.60)\" xlink:href=\"#gpPt5\"/>\n",
       "\t<use color=\"rgb(255,   0, 255)\" transform=\"translate(58.1,218.3) scale(5.60)\" xlink:href=\"#gpPt5\"/>\n",
       "\t<use color=\"rgb(255,   0, 255)\" transform=\"translate(59.1,218.3) scale(5.60)\" xlink:href=\"#gpPt5\"/>\n",
       "\t<use color=\"rgb(255,   0, 255)\" transform=\"translate(60.0,218.3) scale(5.60)\" xlink:href=\"#gpPt5\"/>\n",
       "\t<use color=\"rgb(255,   0, 255)\" transform=\"translate(61.0,218.3) scale(5.60)\" xlink:href=\"#gpPt5\"/>\n",
       "\t<use color=\"rgb(255,   0, 255)\" transform=\"translate(62.0,218.3) scale(5.60)\" xlink:href=\"#gpPt5\"/>\n",
       "\t<use color=\"rgb(255,   0, 255)\" transform=\"translate(62.9,218.3) scale(5.60)\" xlink:href=\"#gpPt5\"/>\n",
       "\t<use color=\"rgb(255,   0, 255)\" transform=\"translate(63.9,218.3) scale(5.60)\" xlink:href=\"#gpPt5\"/>\n",
       "</g>\n",
       "\t</g>\n",
       "<g color=\"#FFFFFF\" fill=\"none\" stroke=\"rgb(255,   0, 255)\" stroke-linecap=\"butt\" stroke-linejoin=\"miter\" stroke-width=\"2.00\">\n",
       "</g>\n",
       "<g color=\"black\" fill=\"none\" stroke=\"currentColor\" stroke-linecap=\"butt\" stroke-linejoin=\"miter\" stroke-width=\"2.00\">\n",
       "</g>\n",
       "<g color=\"black\" fill=\"none\" stroke=\"black\" stroke-linecap=\"butt\" stroke-linejoin=\"miter\" stroke-width=\"0.50\">\n",
       "\t<path d=\"M49.4,397.6 L544.3,397.6 M49.4,39.0 L544.3,39.0 M49.4,397.6 L49.4,39.0 M544.3,397.6 L544.3,39.0    \" stroke=\"rgb( 38,  38,  38)\"/></g>\n",
       "<g color=\"black\" fill=\"none\" stroke=\"rgb( 38,  38,  38)\" stroke-linecap=\"butt\" stroke-linejoin=\"miter\" stroke-width=\"1.00\">\n",
       "</g>\n",
       "<g color=\"black\" fill=\"none\" stroke=\"currentColor\" stroke-linecap=\"butt\" stroke-linejoin=\"miter\" stroke-width=\"1.00\">\n",
       "</g>\n",
       "</g>\n",
       "</svg>"
      ],
      "text/plain": [
       "<IPython.core.display.SVG object>"
      ]
     },
     "metadata": {},
     "output_type": "display_data"
    }
   ],
   "source": []
  },
  {
   "cell_type": "markdown",
   "metadata": {},
   "source": [
    "<br>\n",
    "<b>2.feladat.</b> A help parancs segítségével értelmezzük az <i>eps</i>, <i>realmin</i> és <i>realmax</i> parancsokat. Mit jelentenek ezek az értékek a tanult gépi számok témakör fényében?"
   ]
  },
  {
   "cell_type": "code",
   "execution_count": null,
   "metadata": {},
   "outputs": [],
   "source": []
  },
  {
   "cell_type": "code",
   "execution_count": null,
   "metadata": {},
   "outputs": [],
   "source": []
  },
  {
   "cell_type": "markdown",
   "metadata": {},
   "source": [
    "<br>\n",
    "<b>3.feladat.</b> Tekintsük dupla pontosság esetén az adott $m$ számok jobboldali szomszédjainak távolságát!\n",
    "<br>\n",
    "Dupla (Double) pontosság esetén\n",
    "<br>\n",
    "\n",
    "| $m$ | a jobboldali szomszéd távolsága \n",
    "| --- | --- | \n",
    "| $1$ | $\\approx 2.22 \\cdot 10^{-16}$| \n",
    "| $16$ | $\\approx 3.55 \\cdot 10^{-15}$ | \n",
    "| $1024$ | $\\approx 2.27 \\cdot 10^{-13}$ | \n",
    "| $2^{20} \\approx 10^6$ | $\\approx 2.33 \\cdot 10^{-10}$ | \n",
    "| $2^{52} \\approx 4.5 \\cdot 10^{15}$  | $1$ | \n",
    "| $2^{60} \\approx 1.15 \\cdot 10^{18}$ | $256$ | \n",
    "| $2^{66} \\approx 7.38 \\cdot 10^{19}$ | ? | \n",
    "\n",
    "Mennyi lesz ez az érték  $2^{66} \\approx 7.38 \\cdot 10^{19}$ esetén? Ehhez segítségképpen vizsgáljuk meg az alábbi<br>\n",
    "\n",
    "$$2^{66} + 1 == 2^{66},\\\n",
    "2^{66} + 10 == 2^{66},\\\n",
    "2^{66} + 100 == 2^{66},\\\n",
    "2^{66} + 1000 == 2^{66},\\ \n",
    "2^{66} + 10000 == 2^{66}$$ \n",
    "<br>\n",
    "logikai kifejezések értékét!"
   ]
  },
  {
   "cell_type": "code",
   "execution_count": null,
   "metadata": {},
   "outputs": [],
   "source": []
  },
  {
   "cell_type": "code",
   "execution_count": null,
   "metadata": {},
   "outputs": [],
   "source": []
  },
  {
   "cell_type": "markdown",
   "metadata": {},
   "source": [
    "<br>\n",
    "<b>4.feladat.</b> Tekintsük az alábbi integrált:\n",
    "$$\\displaystyle I_n=\\int_0^1\\frac{x^n}{10+x}dx,$$ ahol $n\\in\\mathbb{N}$. Igazoltuk, hogy <br>\n",
    "\n",
    "+ $I_n\\geq 0$, <br>\n",
    "+ $I_{n+1}\\leq I_n$ és <br>\n",
    "+ $I_n\\to 0$, ha $n\\to\\infty$. <br>\n",
    "\n",
    "Továbbá $I_n$ kiszámítására felírható az alábbi\n",
    "$$I_n=\\frac{1}{n}-10I_{n-1},\\ I_0=\\ln(1.1) $$\n",
    "rekurzió is. \n",
    "<br><br>\n",
    "(a) Írjunk programot <i>rekurzio.m</i> néven, mely adott $n$-re kiszámolja az integrál közelítő értékét. Mit tapasztalunk nagy $n$ esetén? Adjunk ehhez precíz elméleti magyarázatot!"
   ]
  },
  {
   "cell_type": "code",
   "execution_count": 10,
   "metadata": {},
   "outputs": [
    {
     "name": "stdout",
     "output_type": "stream",
     "text": [
      "I_1 =\r\n",
      "\r\n",
      "   9.531017980432493e-02\r\n",
      "   4.689820195675065e-02\r\n",
      "   3.101798043249349e-02\r\n",
      "   2.315352900839845e-02\r\n",
      "   1.846470991601545e-02\r\n",
      "   1.535290083984547e-02\r\n",
      "   1.313765826821192e-02\r\n",
      "   1.148056017502364e-02\r\n",
      "   1.019439824976365e-02\r\n",
      "   9.167128613474629e-03\r\n",
      "   8.328713865253717e-03\r\n",
      "   7.621952256553738e-03\r\n",
      "   7.113810767795950e-03\r\n",
      "   5.784969245117427e-03\r\n",
      "   1.357887897739715e-02\r\n",
      "  -6.912212310730485e-02\r\n",
      "   7.537212310730486e-01\r\n",
      "  -7.478388781318721e+00\r\n",
      "   7.483944336874276e+01\r\n",
      "  -7.483418021084802e+02\r\n",
      "   7.483468021084803e+03\r\n",
      "  -7.483463259180041e+04\r\n",
      "   7.483463713725496e+05\r\n",
      "  -7.483463670247235e+06\r\n",
      "   7.483463674413903e+07\r\n",
      "  -7.483463674013903e+08\r\n",
      "   7.483463674052364e+09\r\n",
      "  -7.483463674048662e+10\r\n",
      "   7.483463674049020e+11\r\n",
      "  -7.483463674048985e+12\r\n",
      "   7.483463674048989e+13\r\n",
      "  -7.483463674048989e+14\r\n",
      "   7.483463674048989e+15\r\n",
      "  -7.483463674048989e+16\r\n",
      "\r\n"
     ]
    }
   ],
   "source": [
    "[I_1] = rekurzio(33)"
   ]
  },
  {
   "cell_type": "markdown",
   "metadata": {},
   "source": [
    "(b) Írjunk programot <i>stabilrekurzio.m</i> néven, mely stabillá teszi a rekurziót az $$I_{n}:=0,\\ I_{n-1}=\\frac{1}{10}\\left(\\frac{1}{n}-I_n\\right),$$\n",
    "rekurzió segítségével! "
   ]
  },
  {
   "cell_type": "code",
   "execution_count": 11,
   "metadata": {},
   "outputs": [
    {
     "name": "stdout",
     "output_type": "stream",
     "text": [
      "I_2 =\r\n",
      "\r\n",
      "   4.689820195675140e-02\r\n",
      "   3.101798043248601e-02\r\n",
      "   2.315352900847329e-02\r\n",
      "   1.846470991526711e-02\r\n",
      "   1.535290084732894e-02\r\n",
      "   1.313765819337729e-02\r\n",
      "   1.148056092337000e-02\r\n",
      "   1.019439076629998e-02\r\n",
      "   9.167203448111332e-03\r\n",
      "   8.327965518886694e-03\r\n",
      "   7.629435720223986e-03\r\n",
      "   7.038976131093478e-03\r\n",
      "   6.533315612142151e-03\r\n",
      "   6.095415307149918e-03\r\n",
      "   5.712513595167490e-03\r\n",
      "   5.374864048325107e-03\r\n",
      "   5.074888928513642e-03\r\n",
      "   4.806666270419131e-03\r\n",
      "   4.564916243177113e-03\r\n",
      "   4.350837568228873e-03\r\n",
      "   4.110671936758893e-03\r\n",
      "   4.347826086956522e-03\r\n",
      "   0.000000000000000e+00\r\n",
      "\r\n"
     ]
    }
   ],
   "source": [
    "[I_2] = stabilrekurzio(23)"
   ]
  },
  {
   "cell_type": "code",
   "execution_count": null,
   "metadata": {},
   "outputs": [],
   "source": []
  }
 ],
 "metadata": {
  "kernelspec": {
   "display_name": "Octave",
   "language": "octave",
   "name": "octave"
  },
  "language_info": {
   "file_extension": ".m",
   "help_links": [
    {
     "text": "GNU Octave",
     "url": "https://www.gnu.org/software/octave/support.html"
    },
    {
     "text": "Octave Kernel",
     "url": "https://github.com/Calysto/octave_kernel"
    },
    {
     "text": "MetaKernel Magics",
     "url": "https://metakernel.readthedocs.io/en/latest/source/README.html"
    }
   ],
   "mimetype": "text/x-octave",
   "name": "octave",
   "version": "5.1.0"
  }
 },
 "nbformat": 4,
 "nbformat_minor": 2
}
