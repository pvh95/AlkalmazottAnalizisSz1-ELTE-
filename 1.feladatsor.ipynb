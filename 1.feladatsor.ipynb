{
 "cells": [
  {
   "cell_type": "markdown",
   "metadata": {},
   "source": [
    "# <center>Az alkalmazott analízis számítógépes módszerei 1.</center>\n",
    "<br>\n",
    "## <center>Fekete Imre</center>\n",
    "### <center>Alkalmazott Analízis és Számításmatematikai Tanszék</center>\n",
    "<img src=\"cimer2.jpg\" width=\"400\">\n",
    "<br>\n",
    "<br>\n",
    "<br>\n",
    "<br>\n",
    "\n",
    "### Általános információk:\n",
    "+ <span class=\"fa fa-building-o\"></span> Déli Tömb 3.702</li>\n",
    "+ Honlap: <a href=\"http://imrefekete.web.elte.hu/\" target=\"_blank\">http://imrefekete.web.elte.hu/</a>\n",
    "+ Fogadóórák: H 8-9 és K 16-17\n",
    "+ Piazza: Kurzushoz kapcsolódó minden anyag és csoportos levelezés megtalálható a <a href=\"https://github.com/feipaat/AlkalmazottAnalizisSz1-ELTE-\">https://github.com/feipaat/AlkalmazottAnalizisSz1-ELTE-</a> és <a href=\"https://piazza.com/elte.hu/spring2019/mm1c1aa4e\">https://piazza.com/elte.hu/spring2019/mm1c1aa4e</a> honlapokon.\n",
    "\n",
    "### Számonkérés:\n",
    "\n",
    "+ 1 db zárthelyi\n",
    "+ Beadható feladatokkal lehet bónuszpontokat szerezni\n",
    "<br>\n",
    "<br>\n",
    "\n",
    "\n",
    "### 3 kívánság:\n",
    "<br>\n",
    "\n",
    "<div style=\"width:870 px\"></div>\n",
    "<div style=\"float:left\"><img src=\"questions.jpg\" width=\"450\" title=\"Bátran kérdezzünk!\"/></div>\n",
    "<div style=\"float:left\"><img src=\"practice.jpg\" width=\"400\" title=\"Gyakorlat teszi a mestert!\"/></div>\n",
    "<div style=\"float:left\"><img src=\"positive.jpg\" width=\"870\" title=\"A jó légkör sem árt!\"/></div> \n",
    "<div style=\"clear:both\"></div> \n",
    "<br>\n",
    "<br> \n",
    "\n",
    "#### Bevezető MATLAB\n",
    "+ Stoyan Gisbert: MATLAB (magyar nyelvű)\n",
    "+ Cleve B. Moler: Numerical Computing with MATLAB"
   ]
  },
  {
   "cell_type": "markdown",
   "metadata": {},
   "source": [
    "<br>\n",
    "1.feladat. A help parancs segítségével értelmezzük az eps, realmin és realmax parancsokat. Mit jelentenek ezek az értékek a tanult gépi számok témakör fényében?"
   ]
  },
  {
   "cell_type": "code",
   "execution_count": 2,
   "metadata": {},
   "outputs": [
    {
     "name": "stdout",
     "output_type": "stream",
     "text": [
      "'eps' is a built-in function from the file libinterp/corefcn/data.cc\n",
      "\n",
      " -- eps\n",
      " -- eps (X)\n",
      " -- eps (N, M)\n",
      " -- eps (N, M, K, ...)\n",
      " -- eps (..., CLASS)\n",
      "     Return a scalar, matrix or N-dimensional array whose elements are\n",
      "     all eps, the machine precision.\n",
      "\n",
      "     More precisely, 'eps' is the relative spacing between any two\n",
      "     adjacent numbers in the machine's floating point system.  This\n",
      "     number is obviously system dependent.  On machines that support\n",
      "     IEEE floating point arithmetic, 'eps' is approximately 2.2204e-16\n",
      "     for double precision and 1.1921e-07 for single precision.\n",
      "\n",
      "     When called with no arguments, return a scalar with the value 'eps\n",
      "     (1.0)'.\n",
      "\n",
      "     Given a single argument X, return the distance between X and the\n",
      "     next largest value.\n",
      "\n",
      "     When called with more than one argument the first two arguments are\n",
      "     taken as the number of rows and columns and any further arguments\n",
      "     specify additional matrix dimensions.  The optional argument CLASS\n",
      "     specifies the return type and may be either \"double\" or \"single\".\n",
      "\n",
      "     See also: realmax, realmin, intmax, flintmax.\n",
      "\n",
      "Additional help for built-in functions and operators is\n",
      "available in the online version of the manual.  Use the command\n",
      "'doc <topic>' to search the manual index.\n",
      "\n",
      "Help and information about Octave is also available on the WWW\n",
      "at http://www.octave.org and via the help@octave.org\n",
      "mailing list.\n",
      "'realmin' is a built-in function from the file libinterp/corefcn/data.cc\n",
      "\n",
      " -- realmin\n",
      " -- realmin (N)\n",
      " -- realmin (N, M)\n",
      " -- realmin (N, M, K, ...)\n",
      " -- realmin (..., CLASS)\n",
      "     Return a scalar, matrix, or N-dimensional array whose elements are\n",
      "     all equal to the smallest normalized floating point number that is\n",
      "     representable.\n",
      "\n",
      "     The actual value is system dependent.  On machines that support\n",
      "     IEEE floating point arithmetic, 'realmin' is approximately\n",
      "     2.2251e-308 for double precision and 1.1755e-38 for single\n",
      "     precision.\n",
      "\n",
      "     When called with no arguments, return a scalar with the value\n",
      "     'realmin (\"double\")'.\n",
      "\n",
      "     When called with a single argument, return a square matrix with the\n",
      "     dimension specified.\n",
      "\n",
      "     When called with more than one scalar argument the first two\n",
      "     arguments are taken as the number of rows and columns and any\n",
      "     further arguments specify additional matrix dimensions.\n",
      "\n",
      "     The optional argument CLASS specifies the return type and may be\n",
      "     either \"double\" or \"single\".\n",
      "\n",
      "     See also: realmax, intmin, eps.\n",
      "\n",
      "Additional help for built-in functions and operators is\n",
      "available in the online version of the manual.  Use the command\n",
      "'doc <topic>' to search the manual index.\n",
      "\n",
      "Help and information about Octave is also available on the WWW\n",
      "at http://www.octave.org and via the help@octave.org\n",
      "mailing list.\n",
      "'realmax' is a built-in function from the file libinterp/corefcn/data.cc\n",
      "\n",
      " -- realmax\n",
      " -- realmax (N)\n",
      " -- realmax (N, M)\n",
      " -- realmax (N, M, K, ...)\n",
      " -- realmax (..., CLASS)\n",
      "     Return a scalar, matrix, or N-dimensional array whose elements are\n",
      "     all equal to the largest floating point number that is\n",
      "     representable.\n",
      "\n",
      "     The actual value is system dependent.  On machines that support\n",
      "     IEEE floating point arithmetic, 'realmax' is approximately\n",
      "     1.7977e+308 for double precision and 3.4028e+38 for single\n",
      "     precision.\n",
      "\n",
      "     When called with no arguments, return a scalar with the value\n",
      "     'realmax (\"double\")'.\n",
      "\n",
      "     When called with a single argument, return a square matrix with the\n",
      "     dimension specified.\n",
      "\n",
      "     When called with more than one scalar argument the first two\n",
      "     arguments are taken as the number of rows and columns and any\n",
      "     further arguments specify additional matrix dimensions.\n",
      "\n",
      "     The optional argument CLASS specifies the return type and may be\n",
      "     either \"double\" or \"single\".\n",
      "\n",
      "     See also: realmin, intmax, flintmax, eps.\n",
      "\n",
      "Additional help for built-in functions and operators is\n",
      "available in the online version of the manual.  Use the command\n",
      "'doc <topic>' to search the manual index.\n",
      "\n",
      "Help and information about Octave is also available on the WWW\n",
      "at http://www.octave.org and via the help@octave.org\n",
      "mailing list.\n"
     ]
    }
   ],
   "source": [
    "help eps\n",
    "help realmin\n",
    "help realmax\n"
   ]
  },
  {
   "cell_type": "code",
   "execution_count": 3,
   "metadata": {},
   "outputs": [
    {
     "name": "stdout",
     "output_type": "stream",
     "text": [
      "ans =    2.2204e-16\n",
      "ans =   2.2251e-308\n",
      "ans =   1.7977e+308\n"
     ]
    }
   ],
   "source": [
    "eps\n",
    "realmin\n",
    "realmax"
   ]
  },
  {
   "cell_type": "markdown",
   "metadata": {},
   "source": [
    "2.feladat. Tekintsük az alábbi integrált:\n",
    "$$\\displaystyle I_n=\\int_0^1\\frac{x^n}{10+x}dx,$$ ahol $n\\in\\mathbb{N}$.\n",
    "<br>\n",
    "<br>\n",
    "Korábban megmutattuk, hogy $I_n\\geq 0$, $I_{n+1}\\leq I_n$ és $I_n\\to 0$, ha $n\\to\\infty$. Továbbá levezettük az\n",
    "$$I_n=\\frac{1}{n}-10I_{n-1},\\ I_0=\\ln(1.1) $$\n",
    "rekurziót is. \n",
    "<br><br>\n",
    "(a) Írjunk programot, mely adott $n$-re kiszámolja az integrál közelítő értékét. Mit tapasztalunk nagy $n$ esetén?"
   ]
  },
  {
   "cell_type": "code",
   "execution_count": 1,
   "metadata": {},
   "outputs": [
    {
     "name": "stdout",
     "output_type": "stream",
     "text": [
      "I_1 =\n",
      "\n",
      "   0.0953101798043249\n",
      "   0.0468982019567507\n",
      "   0.0310179804324935\n",
      "   0.0231535290083985\n",
      "   0.0184647099160155\n",
      "   0.0153529008398455\n",
      "   0.0131376582682119\n",
      "\n"
     ]
    }
   ],
   "source": [
    "format long\n",
    "n=6;\n",
    "I_1=zeros(n+1,1);\n",
    "I_1(1)=log(1.1); % I_1(1) a feladatbeli I_0\n",
    "for i=1:n\n",
    "I_1(i+1)=1/(i)-10*I_1(i);\n",
    "end    \n",
    "I_1"
   ]
  },
  {
   "cell_type": "code",
   "execution_count": 4,
   "metadata": {},
   "outputs": [
    {
     "name": "stdout",
     "output_type": "stream",
     "text": [
      "I_1 =\n",
      "\n",
      "   9.53101798043249e-02\n",
      "   4.68982019567507e-02\n",
      "   3.10179804324935e-02\n",
      "   2.31535290083985e-02\n",
      "   1.84647099160155e-02\n",
      "   1.53529008398455e-02\n",
      "   1.31376582682119e-02\n",
      "   1.14805601750236e-02\n",
      "   1.01943982497636e-02\n",
      "   9.16712861347463e-03\n",
      "   8.32871386525372e-03\n",
      "   7.62195225655374e-03\n",
      "   7.11381076779595e-03\n",
      "   5.78496924511743e-03\n",
      "   1.35788789773972e-02\n",
      "  -6.91221231073049e-02\n",
      "   7.53721231073049e-01\n",
      "  -7.47838878131872e+00\n",
      "   7.48394433687428e+01\n",
      "\n"
     ]
    }
   ],
   "source": [
    "[I_1] = rekurzio(18)"
   ]
  },
  {
   "cell_type": "markdown",
   "metadata": {},
   "source": [
    "(b) Tegyük stabillá az órán vázolt módszerrel az előző instabil rekurziót és írjuk meg ennek kódját is!"
   ]
  },
  {
   "cell_type": "code",
   "execution_count": 5,
   "metadata": {},
   "outputs": [
    {
     "name": "stdout",
     "output_type": "stream",
     "text": [
      "I_2 =\n",
      "\n",
      "   0.0468982019567514\n",
      "   0.0310179804324860\n",
      "   0.0231535290084733\n",
      "   0.0184647099152671\n",
      "   0.0153529008473289\n",
      "   0.0131376581933773\n",
      "   0.0114805609233700\n",
      "   0.0101943907663000\n",
      "   0.0091672034481114\n",
      "   0.0083279655188863\n",
      "   0.0076294357202278\n",
      "   0.0070389761310555\n",
      "   0.0065333156125223\n",
      "   0.0060954153033482\n",
      "   0.0057125136331850\n",
      "   0.0053748636681501\n",
      "   0.0050748927302638\n",
      "   0.0048066282529171\n",
      "   0.0045652964181972\n",
      "   0.0043470358180281\n",
      "   0.0041486894387665\n",
      "   0.0039676510668802\n",
      "   0.0038017502007635\n",
      "   0.0036491646590318\n",
      "   0.0035083534096820\n",
      "   0.0033780043647189\n",
      "   0.0032569933898479\n",
      "   0.0031443518158070\n",
      "   0.0030392404626194\n",
      "   0.0029409287071391\n",
      "   0.0028487774447379\n",
      "   0.0027622255526212\n",
      "   0.0026807747768181\n",
      "   0.0026040169377011\n",
      "   0.0025312591944171\n",
      "   0.0024651858336069\n",
      "   0.0023751686909582\n",
      "   0.0025641025641026\n",
      "   0.0000000000000000\n",
      "\n"
     ]
    }
   ],
   "source": [
    "[I_2] = stabilrekurzio(38)"
   ]
  },
  {
   "cell_type": "markdown",
   "metadata": {},
   "source": [
    "3.feladat. Láthattuk, hogy az \n",
    "$$f(x)=0.9\\cos(x),\\ x\\in[0,1]$$\n",
    "leképezés kontraktív. Továbbá igazoltuk, hogy a Banach-féle fixponttétel feltételei teljesülnek. Írjunk szkriptet, mely megadja az \n",
    "$$||x^{(n)}-x^*||\\leq \\frac{q^n}{1-q}||x^{(1)}-x^{(0)}||<TOL$$\n",
    "formulában $n\\in\\mathbb{N}^+$ értékét, ha $q=0.9\\sin(1)$ és TOL=$10^{-12}$!"
   ]
  },
  {
   "cell_type": "code",
   "execution_count": 12,
   "metadata": {},
   "outputs": [
    {
     "name": "stdout",
     "output_type": "stream",
     "text": [
      "n =  102.103007870194\n",
      " 103\n"
     ]
    }
   ],
   "source": [
    "TOL=1e-12;\n",
    "x_0=1; q=0.9*sin(1);\n",
    "x_1=0.9*cos(x_0);\n",
    "n=log(((1-q)*TOL)/(abs(x_1-x_0)))/log(q)\n",
    "ceil(n);\n",
    "disp(ceil(n))"
   ]
  },
  {
   "cell_type": "code",
   "execution_count": null,
   "metadata": {
    "collapsed": true
   },
   "outputs": [],
   "source": []
  }
 ],
 "metadata": {
  "kernelspec": {
   "display_name": "Octave",
   "language": "octave",
   "name": "octave"
  },
  "language_info": {
   "file_extension": ".m",
   "help_links": [
    {
     "text": "GNU Octave",
     "url": "https://www.gnu.org/software/octave/support.html"
    },
    {
     "text": "Octave Kernel",
     "url": "https://github.com/Calysto/octave_kernel"
    },
    {
     "text": "MetaKernel Magics",
     "url": "https://github.com/calysto/metakernel/blob/master/metakernel/magics/README.md"
    }
   ],
   "mimetype": "text/x-octave",
   "name": "octave",
   "version": "4.2.2"
  }
 },
 "nbformat": 4,
 "nbformat_minor": 2
}
